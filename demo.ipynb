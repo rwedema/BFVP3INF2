{
 "cells": [
  {
   "cell_type": "markdown",
   "metadata": {},
   "source": [
    "# Demonstration Page"
   ]
  },
  {
   "cell_type": "code",
   "execution_count": 12,
   "metadata": {},
   "outputs": [
    {
     "name": "stdout",
     "output_type": "stream",
     "text": [
      "hello\n",
      "classroom\n"
     ]
    },
    {
     "data": {
      "text/plain": [
       "0"
      ]
     },
     "execution_count": 12,
     "metadata": {},
     "output_type": "execute_result"
    }
   ],
   "source": [
    "def f(c, a='hello',b='name'):\n",
    "    print(a)\n",
    "    print(b)\n",
    "    return 0\n",
    "\n",
    "f(1,b = 'classroom')"
   ]
  },
  {
   "cell_type": "code",
   "execution_count": 8,
   "metadata": {},
   "outputs": [
    {
     "name": "stdout",
     "output_type": "stream",
     "text": [
      "ATCGA\n",
      "ATC\n"
     ]
    }
   ],
   "source": [
    "SEQ = 'ATC'\n",
    "\n",
    "def f():\n",
    "    s = 'ATCGA'\n",
    "    print(s)\n",
    "    \n",
    "\n",
    "f()\n",
    "print(SEQ)"
   ]
  },
  {
   "cell_type": "code",
   "execution_count": 19,
   "metadata": {},
   "outputs": [
    {
     "name": "stdout",
     "output_type": "stream",
     "text": [
      "0[1, 3, 4, 5]\n",
      "1[2, 5, 7, 'all']\n",
      "01\n",
      "13\n",
      "25\n",
      "37\n",
      "48\n"
     ]
    }
   ],
   "source": [
    "def print_all(*var):\n",
    "    for index, thing in enumerate(var):\n",
    "        print('{}{}'.format(index,thing))\n",
    "        \n",
    "print_all([1,3,4,5],[2,5,7,'all'])\n",
    "print_all(1,3,5,7,8)\n",
    "        \n"
   ]
  },
  {
   "cell_type": "code",
   "execution_count": 23,
   "metadata": {},
   "outputs": [
    {
     "name": "stdout",
     "output_type": "stream",
     "text": [
      "840\n"
     ]
    }
   ],
   "source": [
    "\n",
    "def multiply(largs):\n",
    "    z = 1\n",
    "    for num in largs:\n",
    "        z *= num\n",
    "    print(z)\n",
    "\n",
    "def main():\n",
    "\n",
    "    test = [4,5,6,7]\n",
    "    multiply(test)\n",
    "\n",
    "    \n",
    "main()\n"
   ]
  },
  {
   "cell_type": "code",
   "execution_count": null,
   "metadata": {},
   "outputs": [],
   "source": []
  }
 ],
 "metadata": {
  "kernelspec": {
   "display_name": "Python 3",
   "language": "python",
   "name": "python3"
  },
  "language_info": {
   "codemirror_mode": {
    "name": "ipython",
    "version": 3
   },
   "file_extension": ".py",
   "mimetype": "text/x-python",
   "name": "python",
   "nbconvert_exporter": "python",
   "pygments_lexer": "ipython3",
   "version": "3.6.3"
  }
 },
 "nbformat": 4,
 "nbformat_minor": 2
}
