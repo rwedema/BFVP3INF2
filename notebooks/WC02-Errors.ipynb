{
 "cells": [
  {
   "cell_type": "markdown",
   "metadata": {},
   "source": [
    "# Errors - When things go wrong (Informatics II)"
   ]
  },
  {
   "cell_type": "markdown",
   "metadata": {},
   "source": [
    "Author = Tsjerk Wassenaar\n",
    "\n",
    "## Introduction\n",
    "\n",
    "In this tutorial you will learn about errors and how to deal with them. Errors are an integral part of programming, and finding errors and removing them, known as debugging, is an important programming skill. Errors may be frustrating, but keep in mind that an error isn't a failure. The best programmers make errors. They're just quick in getting them out again. And that is what you need to learn to become a better programmer: how to recognize errors, how to find them and how to get them out. It's much like a puzzle challenge."
   ]
  },
  {
   "cell_type": "markdown",
   "metadata": {},
   "source": [
    "There are three kinds of errors: **syntax errors**, **runtime errors**, and **semantic errors**."
   ]
  },
  {
   "cell_type": "markdown",
   "metadata": {},
   "source": [
    "---"
   ]
  },
  {
   "cell_type": "markdown",
   "metadata": {},
   "source": [
    "## Syntax Errors"
   ]
  },
  {
   "cell_type": "markdown",
   "metadata": {},
   "source": [
    "These are errors in the language, causing Python to get confused. In principle, these are typically easy to understand and to find. These errors will be the first that Python will encounter and present, because they will prevent Python from understanding the code and running it in the first place. Quite typical syntax errors are missing colons `(:)` after a `def/if/for/while` statement, or mismatched quotes or parentheses. "
   ]
  },
  {
   "cell_type": "markdown",
   "metadata": {},
   "source": [
    "## Runtime errors"
   ]
  },
  {
   "cell_type": "markdown",
   "metadata": {},
   "source": [
    "When there are no syntax errors, Python will compile the code and start running. During this process, things may still go wrong. For instance, a value that is generated and used may be out of bound, like a negative number in a square root, or the value may be of a wrong type. These errors are encountered when they happen in a program. So, unlike syntax errors, it may take quite a while in complex programs before the error pops up."
   ]
  },
  {
   "cell_type": "markdown",
   "metadata": {},
   "source": [
    "## Semantic errors"
   ]
  },
  {
   "cell_type": "markdown",
   "metadata": {},
   "source": [
    "These are the really nasty ones. Semantic errors are errors in the process. It means that there's a difference between what you want and what you get. But it may not always be obvious, because you don't typically know what the outcome should be. If you know the outcome already, you don't need the program. Python can't tell you that there's a semantic error somewhere. So these are the ones for which you really need to think about the code and how your data flows through the program and what can possibly go wrong where. There are things you can do to help yourself to prevent semantic errors: test your code! We won't go into testing in this part, but it will come up later.  "
   ]
  },
  {
   "cell_type": "markdown",
   "metadata": {},
   "source": [
    "---"
   ]
  },
  {
   "cell_type": "markdown",
   "metadata": {},
   "source": [
    "# Assignment 1:"
   ]
  },
  {
   "cell_type": "markdown",
   "metadata": {},
   "source": [
    "Build a list of all the errors in Python and print these, together with their _docstrings_.\n",
    "\n",
    "HINT 1: The errors are part of the Python *\\_\\_builtins\\_\\_* You can list all the built-in stuff using \n",
    "\n",
    "    dir(__builtins__) \n",
    "\n",
    "which will give a list of strings. You know that something is an error if it _ends with_ 'Error'.\n",
    "\n",
    "HINT 2: Each object/function/whatever in Python has a docstring that describes what it is/does/can. This docstring is displayed when you call the help function. But the dosctring can also be accessed and printed directly. It is always stored as a string called *\\_\\_doc\\_\\_* on the object. So print(\\_\\_builtins\\_\\_.ZeroDivisionError.\\_\\_doc\\_\\_) will print the docstring from the ZeroDivisionError from the builtins, and shows: **Second argument to a division or modulo operation was zero.** To make this part easy you can use the function below:\n"
   ]
  },
  {
   "cell_type": "code",
   "execution_count": 1,
   "metadata": {
    "collapsed": true
   },
   "outputs": [],
   "source": [
    "def error_doc(err):\n",
    "    \"Return the docstring of an error given as name (str)\"\n",
    "    return getattr(__builtins__, err).__doc__"
   ]
  },
  {
   "cell_type": "code",
   "execution_count": 3,
   "metadata": {
    "scrolled": true
   },
   "outputs": [
    {
     "name": "stdout",
     "output_type": "stream",
     "text": [
      "ZeroDivisionError : Second argument to a division or modulo operation was zero.\n",
      "ArithmeticError : Base class for arithmetic errors.\n"
     ]
    }
   ],
   "source": [
    "# Test it\n",
    "err = \"ZeroDivisionError\"\n",
    "print(err, \":\", error_doc(err))\n",
    "\n",
    "err = dir(__builtins__)[0]\n",
    "print(err, \":\", error_doc(err))"
   ]
  },
  {
   "cell_type": "markdown",
   "metadata": {},
   "source": [
    "Use the code above to make a list of all the errors in Python and print these, together with their docstrings. Make sure you use the template for informatics II (previous tutorial)"
   ]
  },
  {
   "cell_type": "markdown",
   "metadata": {},
   "source": [
    "\n",
    "\n",
    "\n",
    "Most of the errors you won't encounter within this course, or at all. If you encounter an error that you haven't had before, it means that you're programming more complex things than you did, and so it is a sign of advancement. The error is an immediate (and pressing) opportunity to learn, so be happy for it at the moment, and give in to the frustration of trying to solve it later :)"
   ]
  },
  {
   "cell_type": "markdown",
   "metadata": {},
   "source": [
    "---"
   ]
  },
  {
   "cell_type": "markdown",
   "metadata": {},
   "source": [
    "# Assignment 2: fixsyntax.py"
   ]
  },
  {
   "cell_type": "markdown",
   "metadata": {},
   "source": [
    "Among the list of errors is (of course) the SyntaxError, and that is probably the one encountered most. An important reason for that is that there are so many ways you can make mistakes in writing the code. Forget a comma, point, colon, parenthesis, curly brace or so and there's a SyntaxError. Add one to much of those and there's a SyntaxError. The code below contains quite a number of syntax errors. The assignment is to make the code work.\n",
    "\n",
    "To help programmers to find errors, Python prints when and where in the code the error _became clear_. In most cases that's the same as where the error was made, but sometimes the root of the error lies somewhere in the preceding lines, especially when a parenthesis, bracket or a quote is missing. The message that Python gives is called a traceback, and it is easiest to read it from the bottom to the top. The last lines give the error and the place in the code it was encountered. Above it is the function it was called from, above that the function that was called from, etc, etc. The traceback appears when you run the code and the error pops up. So, copy the code below, and run it:"
   ]
  },
  {
   "cell_type": "code",
   "execution_count": 4,
   "metadata": {},
   "outputs": [
    {
     "ename": "SyntaxError",
     "evalue": "invalid syntax (<ipython-input-4-118702b5a541>, line 4)",
     "output_type": "error",
     "traceback": [
      "\u001b[0;36m  File \u001b[0;32m\"<ipython-input-4-118702b5a541>\"\u001b[0;36m, line \u001b[0;32m4\u001b[0m\n\u001b[0;31m    A silly program with a collection of syntax errors\u001b[0m\n\u001b[0m          ^\u001b[0m\n\u001b[0;31mSyntaxError\u001b[0m\u001b[0;31m:\u001b[0m invalid syntax\n"
     ]
    }
   ],
   "source": [
    "#!/usr/bin/env python3\n",
    "\n",
    "\"\"\n",
    "A silly program with a collection of syntax errors\n",
    "\"\"\"\n",
    "\n",
    "__author__ \"Tsjerk A. Wassenaar\"\n",
    "\n",
    "\n",
    "# IMPORTS\n",
    "import: sys\n",
    "\n",
    "\n",
    "# CONSTANTS\n",
    "2times_pi = 6.283185\n",
    "mass = {\n",
    "    \"H\": 1.008;\n",
    "    \"C\": 12.011,\n",
    "    \"O\": 15.998,\n",
    "    }}\n",
    "\n",
    "\n",
    "# FUNCTIONS\n",
    "def\n",
    "\n",
    "def fun(a, b, c)\n",
    "    return (((a) + ((b) * c)\n",
    "    \n",
    "    \n",
    "# MAIN\n",
    "def main(args):\n",
    "    print(fun(mass['H'], mass['C'], mass['O']))\n",
    "    return 0\n",
    "    \n",
    "    \n",
    "if __name__ = \"__main__\":\n",
    "    exitcode = main(sys..argv) \n",
    "    return exitcode\n"
   ]
  },
  {
   "cell_type": "markdown",
   "metadata": {},
   "source": [
    "---"
   ]
  },
  {
   "cell_type": "markdown",
   "metadata": {},
   "source": [
    "# Assignment 3: breakme"
   ]
  },
  {
   "cell_type": "markdown",
   "metadata": {},
   "source": [
    "There should be 12 other errors in the list from assignment 1 that you should be able to understand. Select 10 errors and write a program or small programs in which your code causes those. If you can isolate the code in a function (like ZeroDivisionError) do that and don't call the function. Otherwise write and test the code and then make it a comment block. You are allowed to discuss (calmly) and you can browse the internet to find more background and maybe examples of error raising code."
   ]
  },
  {
   "cell_type": "markdown",
   "metadata": {},
   "source": [
    "---"
   ]
  },
  {
   "cell_type": "markdown",
   "metadata": {},
   "source": [
    "# Assignment 4: fixme"
   ]
  },
  {
   "cell_type": "markdown",
   "metadata": {},
   "source": [
    "The code below is a program to extract the sequence from a PDB file. Unfortunately the code still contains errors. Copy the code to a file and fix the errors."
   ]
  },
  {
   "cell_type": "code",
   "execution_count": null,
   "metadata": {
    "collapsed": true
   },
   "outputs": [],
   "source": [
    "#!/usr/bin/env/python\n",
    "\n",
    "'''\n",
    "A program with errors. \n",
    "The program should extract the sequence from a PDB file\n",
    "\n",
    "Usage:\n",
    "   \n",
    "    fixme.py pdbfile\n",
    "\n",
    "When corrected, the program will produce output like:\n",
    "\n",
    "MET GLN ILE PHE VAL LYS THR LEU THR GLY LYS THR ILE THR LEU GLU VAL GLU PRO SER ASP THR ILE GLU ...\n",
    "\n",
    "2013 - Tsjerk A. Wassenaar\n",
    "\"\"\n",
    "\n",
    "import Sys\n",
    "\n",
    "# Extracting the sequence from a PDB file\n",
    "#\n",
    "# The first six characters of each line in a PDB file show the kind of content\n",
    "# At this point only the lines starting with 'ATOM' count. \n",
    "# The ATOM lines have the following structure:\n",
    "#\n",
    "# ATOM    493  CA  LYS A  63      21.656  26.847   5.240  1.00 11.97           C  \n",
    "#\n",
    "# 012345678901234567890123456789012345678901234567890123456789012345678901234567890\n",
    "#              ||  +++\n",
    "#\n",
    "# The residue is in line[17:20]. Each residue has one c-alpha atom, \n",
    "# which has ' CA ' in line[12:16]. If we select only those lines and \n",
    "# get the residue, were done.\n",
    "\n",
    "\n",
    "def getPdbSequence(filename):\n",
    "    '''Extract the sequence from a PDB file'''\n",
    "    pdb  = open(filename)\n",
    "    seq  = []\n",
    "    for line in pdb:\n",
    "        if line.starswith(\"ATOM\") and line[12:16] == \" CA \"\n",
    "             seq.append(line[17:20])\n",
    "    pdb.close()\n",
    "\n",
    "\n",
    "def main(args):\n",
    "    if len(argv) == 1:\n",
    "        print(__doc__)\n",
    "        # We step out of the main function here\n",
    "        return 1\n",
    "\n",
    "    sequence = getPDBSequence(sys.argv)\n",
    "    print(\" \".join(sequence))\n",
    "    \n",
    "    # The end of the main function, stepping out\n",
    "    return 0\n",
    "\n",
    "\n",
    "if __name__ == \"__main__\":\n",
    "    # Execute the main function if this is run as program\n",
    "    exitcode = main(sys.args)\n",
    "    sys.exit(exitcode)\n",
    "      "
   ]
  }
 ],
 "metadata": {
  "kernelspec": {
   "display_name": "Python 3",
   "language": "python",
   "name": "python3"
  },
  "language_info": {
   "codemirror_mode": {
    "name": "ipython",
    "version": 3
   },
   "file_extension": ".py",
   "mimetype": "text/x-python",
   "name": "python",
   "nbconvert_exporter": "python",
   "pygments_lexer": "ipython3",
   "version": "3.5.2"
  }
 },
 "nbformat": 4,
 "nbformat_minor": 2
}
