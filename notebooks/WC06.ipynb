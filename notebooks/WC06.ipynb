{
 "cells": [
  {
   "cell_type": "markdown",
   "metadata": {},
   "source": [
    "# Writing efficient code with Comprehensions (Informatics II)\n",
    "\n",
    "author: Fenna Feenstra\n",
    "\n",
    "Comprehensions are extremely powerful tools for creating structured, filled lists, dictionaries etx. In this tutorial lecture we will exercise the use of comprehensions. Since they are tightly bound to comprehensions, we'll also review lambda functions.\n",
    "\n",
    "content:\n",
    "- lambda functions\n",
    "- list comprehensions\n",
    "- dict comprehensions\n",
    "\n",
    "First read the part about lambda functions. Try to make exercise 1. Then continue to read the part about list comprehensions. Practise this part with exercise 2. Part 3 is a small part elaborating on the dict comprehension. When you finished all exercises you can try to finish the spicy exercise. It is recommended to start with exercise 1, 2 and 3 before starting the spicy exercise."
   ]
  },
  {
   "cell_type": "markdown",
   "metadata": {},
   "source": [
    "---"
   ]
  },
  {
   "cell_type": "markdown",
   "metadata": {},
   "source": [
    "## 1. Lambda function\n",
    "\n",
    "Previous we learned to code functions. We learned that each functions must \n",
    "- start with the keyword def\n",
    "- have a (legal) name\n",
    "- have an argument list, but it may be empty: ()\n",
    "- have a function body, but it may be simply the keyword pass\n",
    "- have a return (optional)\n",
    "\n",
    "A simple example of such a function is as follow:"
   ]
  },
  {
   "cell_type": "code",
   "execution_count": 1,
   "metadata": {},
   "outputs": [
    {
     "name": "stdout",
     "output_type": "stream",
     "text": [
      "1:1 | 2:4 | 3:9 | 4:16 | 5:25 | "
     ]
    }
   ],
   "source": [
    "def square(x):\n",
    "    return x**2\n",
    "\n",
    "#call function square\n",
    "lst = [1,2,3,4,5]\n",
    "for i in lst:\n",
    "    print(i, square(i), sep=':', end=' | ')"
   ]
  },
  {
   "cell_type": "markdown",
   "metadata": {},
   "source": [
    "The function\n",
    "- starts with the keyword def\n",
    "- has the name square\n",
    "- has an argument list, with one argument named x\n",
    "- returns the value of x**2\n"
   ]
  },
  {
   "cell_type": "markdown",
   "metadata": {},
   "source": [
    "A **lambda** function is a function that does not use keyword def, does not have a legal name and does not have a functional body and return. It is a small anonymous functions, i.e. a functions without a name. These functions are throw-away functions, i.e. they are just needed where they have been created. The **lambda** feature was added to Python due to the demand from Lisp programmers. **Lambda** functions can be used anywhere a function is required.\n",
    "\n",
    "\n",
    "The general syntax of a lambda function is quite simple:\n",
    "\n",
    "    lambda argument_list: expression\n",
    "\n",
    "The argument list consists of a comma separated list of arguments and the expression is an arithmetic expression using these arguments. \n",
    "\n",
    "\n",
    "You can assign the function to a variable to give it a name."
   ]
  },
  {
   "cell_type": "code",
   "execution_count": 2,
   "metadata": {},
   "outputs": [
    {
     "name": "stdout",
     "output_type": "stream",
     "text": [
      "1:1 | 2:4 | 3:9 | 4:16 | 5:25 | "
     ]
    }
   ],
   "source": [
    "square = lambda x: x**2\n",
    "\n",
    "#call lambda function square\n",
    "lst = [1,2,3,4,5]\n",
    "for i in lst:\n",
    "    print(i, square(i), sep=':', end=' | ')"
   ]
  },
  {
   "cell_type": "markdown",
   "metadata": {},
   "source": [
    "The lambda function \n",
    "- uses the keyword `lambda`\n",
    "- the argument list is `x`\n",
    "- the expression is `x**2`\n",
    "- and the outcome is put in variable `square`"
   ]
  },
  {
   "cell_type": "markdown",
   "metadata": {},
   "source": [
    "Like normal functions lambda functions can also return collection data types, such as tuples:"
   ]
  },
  {
   "cell_type": "code",
   "execution_count": 3,
   "metadata": {},
   "outputs": [
    {
     "name": "stdout",
     "output_type": "stream",
     "text": [
      "1:(1, 1) | 2:(4, 8) | 3:(9, 27) | 4:(16, 64) | 5:(25, 125) | "
     ]
    }
   ],
   "source": [
    "p23 = lambda x: (x**2, x**3)\n",
    "\n",
    "lst = [1,2,3,4,5]\n",
    "for i in lst:\n",
    "    print(i, p23(i), sep=':', end=' | ')"
   ]
  },
  {
   "cell_type": "markdown",
   "metadata": {},
   "source": [
    "Like any function, lambda's can work with optional, named arguments:"
   ]
  },
  {
   "cell_type": "code",
   "execution_count": 4,
   "metadata": {},
   "outputs": [
    {
     "name": "stdout",
     "output_type": "stream",
     "text": [
      "1:3:4 | 2:4:5 | 3:5:6 | 4:6:7 | 5:7:8 | "
     ]
    }
   ],
   "source": [
    "f = lambda x, y=2 : x + y\n",
    "\n",
    "lst = [1,2,3,4,5]\n",
    "for i in lst:\n",
    "    print(i, f(i), f(i, 3), sep=':', end=' | ')"
   ]
  },
  {
   "cell_type": "markdown",
   "metadata": {},
   "source": [
    "To generalize, a lambda function is a function that takes any number of arguments (including optional arguments) and returns the value of a single expression. lambda functions can not contain more than one expression. If you need something more complex, define a normal function instead and make it as long as you want.\n",
    "\n",
    "lambda functions are a matter of style. Using them is never required; anywhere you could use them, you could define a separate normal function and use that instead. Lambda functions are mainly used in combination with the functions filter(), map() and reduce(). The map() function applies a function to every member of an iterable and returns the result."
   ]
  },
  {
   "cell_type": "code",
   "execution_count": 5,
   "metadata": {},
   "outputs": [
    {
     "name": "stdout",
     "output_type": "stream",
     "text": [
      "0 1 4 9 16 25 36 49 64 81\n"
     ]
    }
   ],
   "source": [
    "def square(x):\n",
    "    return x**2\n",
    "\n",
    "squares = map(square, range(10))\n",
    "print(*squares)"
   ]
  },
  {
   "cell_type": "markdown",
   "metadata": {},
   "source": [
    "Can be rewritten as"
   ]
  },
  {
   "cell_type": "code",
   "execution_count": 6,
   "metadata": {},
   "outputs": [
    {
     "name": "stdout",
     "output_type": "stream",
     "text": [
      "0 1 4 9 16 25 36 49 64 81\n"
     ]
    }
   ],
   "source": [
    "squares = map(lambda x: x**2, range(10))\n",
    "print(*squares)"
   ]
  },
  {
   "cell_type": "markdown",
   "metadata": {},
   "source": [
    "## Exercise 1: lambda function\n",
    "\n",
    "Rewrite the following code into a lambda functions:"
   ]
  },
  {
   "cell_type": "code",
   "execution_count": 7,
   "metadata": {},
   "outputs": [
    {
     "name": "stdout",
     "output_type": "stream",
     "text": [
      "9 16 25 36 49\n"
     ]
    }
   ],
   "source": [
    "def square(x):\n",
    "    return x**2\n",
    "\n",
    "def between5and50(x):\n",
    "    return x > 5 and x < 50\n",
    "    \n",
    "squares = map(square, range(10))\n",
    "special_squares = filter(between5and50, squares)\n",
    "print(*special_squares)\n"
   ]
  },
  {
   "cell_type": "markdown",
   "metadata": {},
   "source": [
    "---"
   ]
  },
  {
   "cell_type": "markdown",
   "metadata": {},
   "source": [
    "## 2. List comprehensions\n",
    "\n",
    "\n",
    "A List Comprehensions is a very powerful code, which creates a new list based on another list, in a single, readable line. It uses a kind of for loop in one single line. \n",
    "\n",
    "First let's review the normal for loop:\n"
   ]
  },
  {
   "cell_type": "code",
   "execution_count": 8,
   "metadata": {},
   "outputs": [
    {
     "name": "stdout",
     "output_type": "stream",
     "text": [
      "[0, 1, 2, 3, 4, 5]\n"
     ]
    }
   ],
   "source": [
    "l1 = []\n",
    "for x in range(6):\n",
    "    l1.append(x)\n",
    "\n",
    "print(l1)"
   ]
  },
  {
   "cell_type": "markdown",
   "metadata": {},
   "source": [
    "We can rewrite this in the following concise form; the list comprehension form:"
   ]
  },
  {
   "cell_type": "code",
   "execution_count": 10,
   "metadata": {},
   "outputs": [
    {
     "name": "stdout",
     "output_type": "stream",
     "text": [
      "[0, 1, 2, 3, 4, 5]\n"
     ]
    }
   ],
   "source": [
    "l1 = [x for x in range(6)]\n",
    "print(l1)"
   ]
  },
  {
   "cell_type": "markdown",
   "metadata": {},
   "source": [
    "Using the comprehension there is no need to append the result to the list. By putting the for loop construction inside the [] it is automatically assigned / append to the list. All comprehensions have this architecture:\n",
    "\n",
    "    [expression for element in iterable <optional test>]\n",
    "\n",
    "In the example above \n",
    "\n",
    "- the expression is `x`\n",
    "- the for element in iterable is `for x in range(6)`\n",
    "- there is no optional test\n"
   ]
  },
  {
   "cell_type": "markdown",
   "metadata": {},
   "source": [
    "### The expression part\n",
    "In the expression part, you can return any type you like: tuples, lists, dictionaries or objects."
   ]
  },
  {
   "cell_type": "code",
   "execution_count": 11,
   "metadata": {},
   "outputs": [
    {
     "name": "stdout",
     "output_type": "stream",
     "text": [
      "[(0, 0), (1, 1), (4, 8), (9, 27), (16, 64), (25, 125)]\n"
     ]
    }
   ],
   "source": [
    "l2 = [(x**2, x**3) for x in range(6)]\n",
    "print(l2)"
   ]
  },
  {
   "cell_type": "markdown",
   "metadata": {},
   "source": [
    "In the example above \n",
    "\n",
    "- the expression is `(x**2, x**3)`\n",
    "- the for element in iterable is `for x in range(6)`\n",
    "- there is no optional test\n"
   ]
  },
  {
   "cell_type": "markdown",
   "metadata": {},
   "source": [
    "The expression can be any single-line statement including function calls. We can for instance call the function call math.sqrt() and even include an if else statement in one single expression. "
   ]
  },
  {
   "cell_type": "code",
   "execution_count": 12,
   "metadata": {
    "scrolled": true
   },
   "outputs": [
    {
     "name": "stdout",
     "output_type": "stream",
     "text": [
      "['NaN', 'NaN', 'NaN', 0.0, 1.0, 1.4142135623730951, 1.7320508075688772, 2.0]\n"
     ]
    }
   ],
   "source": [
    "import math\n",
    "l3 = [math.sqrt(x) if x > -1 else 'NaN' for x in range(-3,5)]\n",
    "print(l3)"
   ]
  },
  {
   "cell_type": "markdown",
   "metadata": {},
   "source": [
    "Calling functions in the expression part can be any function, a builtin, an own written or a lambda function. "
   ]
  },
  {
   "cell_type": "markdown",
   "metadata": {},
   "source": [
    "### The iterable part\n",
    "The iterable part can be any iterable. This can be a string, for instance \"ATCG\", a list, but this can be a list of tuples as well. \n"
   ]
  },
  {
   "cell_type": "code",
   "execution_count": 13,
   "metadata": {},
   "outputs": [
    {
     "name": "stdout",
     "output_type": "stream",
     "text": [
      "[3, 7, 11, 15]\n"
     ]
    }
   ],
   "source": [
    "tl = [(1,2),(3,4),(5,6),(7,8)]\n",
    "l4 = [x[0]+x[1] for x in tl]\n",
    "print(l4)"
   ]
  },
  {
   "cell_type": "markdown",
   "metadata": {},
   "source": [
    "### The optional part \n",
    "Comprehensions can also specify a test that each element should pass before being passed to the expression. So only if the optional test is true then the item is appended to the list. For instance if we expand our list comprehension \n",
    "\n",
    "    `x for x in range(6)` \n",
    "\n",
    "with the optional test \n",
    "\n",
    "    `if not x == 3` \n",
    "    \n",
    "we get the result [0, 1, 2, 4, 5]\n"
   ]
  },
  {
   "cell_type": "code",
   "execution_count": 14,
   "metadata": {},
   "outputs": [
    {
     "name": "stdout",
     "output_type": "stream",
     "text": [
      "1 [0, 1, 2, 4, 5]\n"
     ]
    }
   ],
   "source": [
    "l5 = [x for x in range(6) if not x == 3]\n",
    "print(1, l5)"
   ]
  },
  {
   "cell_type": "markdown",
   "metadata": {},
   "source": [
    "The optional test can be any evaluation. We can even use a function or a lambda function"
   ]
  },
  {
   "cell_type": "code",
   "execution_count": 15,
   "metadata": {},
   "outputs": [
    {
     "name": "stdout",
     "output_type": "stream",
     "text": [
      "ACGCCA\n"
     ]
    }
   ],
   "source": [
    "lam = lambda x: True if x in 'GATC' else False\n",
    "l6 = [x for x in 'ACRGYWCCNA' if lam(x)]\n",
    "print(\"\".join(l6))\n"
   ]
  },
  {
   "cell_type": "markdown",
   "metadata": {},
   "source": [
    "### Nested comprehensions\n",
    "\n",
    "It is also possible to put a list in a list. A nested comprehension"
   ]
  },
  {
   "cell_type": "code",
   "execution_count": 16,
   "metadata": {},
   "outputs": [
    {
     "name": "stdout",
     "output_type": "stream",
     "text": [
      "[[['xxx', 'xxx', 'xxx'], ['xxx', 'xxx', 'xxx'], ['xxx', 'xxx', 'xxx']], [['xxx', 'xxx', 'xxx'], ['xxx', 'xxx', 'xxx'], ['xxx', 'xxx', 'xxx']], [['xxx', 'xxx', 'xxx'], ['xxx', 'xxx', 'xxx'], ['xxx', 'xxx', 'xxx']]]\n"
     ]
    }
   ],
   "source": [
    "str1 = \"xxx\"\n",
    "l23 = [[[str1 for i in range(3)] for j in range(3)] for k in range(3)]\n",
    "print(l23)"
   ]
  },
  {
   "cell_type": "markdown",
   "metadata": {},
   "source": [
    "## Exercise 2: List Comprehensions\n",
    "\n",
    "In the file <a href=\"list-comprehensions.py\">list-comprehensions.py</a> you find 17 small exercises. Each exercise is constructed as follow:\n",
    "\n",
    "- the name of the exercise \n",
    "- some preperation code \n",
    "- the assignment \n",
    "- the expected results \n",
    "- code to print the answer\n",
    "\n",
    "your job is to change the code in such way that it prints the expected outcome. You have to use list comprehensions. The first exercise and example is given below. You can use the list-comprehensions.py file to finish the other 16 exercises."
   ]
  },
  {
   "cell_type": "code",
   "execution_count": 17,
   "metadata": {},
   "outputs": [
    {
     "name": "stdout",
     "output_type": "stream",
     "text": [
      "1 ['list comprehension here']\n"
     ]
    }
   ],
   "source": [
    "#opgave 1\n",
    "#start\n",
    "None\n",
    "#omschrijving:\n",
    "#gebruik range() voor het genereren van een getallenvolgorde\n",
    "#resultaat\n",
    "[0, 2, 3, 4, 5, 6, 7, 8, 9]\n",
    "#antwoord\n",
    "l01 = [\"list comprehension here\"]\n",
    "print(1, l01)"
   ]
  },
  {
   "cell_type": "markdown",
   "metadata": {},
   "source": [
    "solution:"
   ]
  },
  {
   "cell_type": "code",
   "execution_count": 18,
   "metadata": {},
   "outputs": [
    {
     "name": "stdout",
     "output_type": "stream",
     "text": [
      "1 [0, 2, 3, 4, 5, 6, 7, 8, 9]\n"
     ]
    }
   ],
   "source": [
    "#opgave 1\n",
    "#start\n",
    "None\n",
    "#omschrijving:\n",
    "#gebruik range() voor het genereren van een getallenvolgorde\n",
    "#resultaat\n",
    "[0, 2, 3, 4, 5, 6, 7, 8, 9]\n",
    "#antwoord\n",
    "l01 = [x for x in range(10) if not x == 1]\n",
    "print(1, l01)"
   ]
  },
  {
   "cell_type": "markdown",
   "metadata": {},
   "source": [
    "---"
   ]
  },
  {
   "cell_type": "markdown",
   "metadata": {},
   "source": [
    "## 3. Dict comprehensions\n",
    "\n",
    "A dict comprehension is the same way constructed as the list comprehension. For the list comprehensions we used the block brackets `[]`, for the dict comprehensions we will use the curly brackets `{}`. Remember that for a dictionary we need a key and a value. So the expression part needs to generate both. \n",
    "\n",
    "    {expression that generates key and value for element in iterable <optional test>}\n",
    "    \n"
   ]
  },
  {
   "cell_type": "code",
   "execution_count": 19,
   "metadata": {},
   "outputs": [
    {
     "name": "stdout",
     "output_type": "stream",
     "text": [
      "{0: 0, 1: 1, 2: 4, 3: 9, 4: 16, 5: 25}\n"
     ]
    }
   ],
   "source": [
    "d01 = {x: x**2 for x in range(6)}\n",
    "print(d01)"
   ]
  },
  {
   "cell_type": "markdown",
   "metadata": {},
   "source": [
    "In the example above \n",
    "\n",
    "- the expression `x : x**2` generates the key value part\n",
    "- the for element in iterable is `for x in range(6)`\n",
    "- there is no optional test\n",
    "\n"
   ]
  },
  {
   "cell_type": "markdown",
   "metadata": {},
   "source": [
    "## Exercise 3: Dict comprehension\n",
    "\n",
    "create a dict comprehenions that generates the following output: \n",
    "\n",
    "    {1: 1, 2: 4, 3: 9, 4: 16, 5: 25, 6: 36, 7: 49, 8: 64, 9: 81, 10: 100}\n",
    "    "
   ]
  },
  {
   "cell_type": "markdown",
   "metadata": {},
   "source": [
    "---"
   ]
  },
  {
   "cell_type": "markdown",
   "metadata": {},
   "source": [
    "## Spicy Exercise: DNA converter\n",
    "    \n",
    "The following script is a script to convert DNA. \n",
    "Your assignment is to fill in the code at \"some code here\" places. You cannot add lines of code, you have to use comprehensions and lambda functions if requested. "
   ]
  },
  {
   "cell_type": "code",
   "execution_count": null,
   "metadata": {},
   "outputs": [],
   "source": [
    "#!/usr/bin/env python3\n",
    "\"\"\"\n",
    "Use list comprehensions and lambda functions to make the code work.\n",
    "Do not use extra lines of code!!!\n",
    "Note that this exercise is to demonstrate the working of list comprehensions and lambda functions.\n",
    "Code readability is always more preferred over compact code\n",
    "\"\"\"\n",
    "\n",
    "__author__ = 'jurrehageman'\n",
    "\n",
    "import sys\n",
    "\n",
    "bases = {'A':'T','C':'G','G':'C','T':'A'}\n",
    "\n",
    "\n",
    "def reverse(seq):\n",
    "    rev = \"some code here\"\n",
    "    return rev\n",
    "\n",
    "\n",
    "def complement(seq):\n",
    "    comp = \"some code here\"\n",
    "    return comp\n",
    "\n",
    "\n",
    "def reverse_complement(seq):\n",
    "    rev_comp = \"some code here\" #use lambda\n",
    "    return rev_comp #call the lambda function here\n",
    "\n",
    "\n",
    "def main(args):\n",
    "    #dna = \"ATCG\"\n",
    "    dna = args.upper()\n",
    "    rev_dna = reverse(dna)\n",
    "    comp_dna = complement(dna)\n",
    "    reverse_comp_dna = reverse_complement(dna)\n",
    "    print(\"Input: 5'-{}-3'\".format(dna))\n",
    "    print(\"Reverse: 3'-{}-5'\".format(rev_dna))\n",
    "    print(\"Complement: 5'-{}-3'\".format(comp_dna))\n",
    "    print(\"Reverse Complement: 5'-{}-3'\".format(reverse_comp_dna))\n",
    "\n",
    "    return 0\n",
    "\n",
    "if __name__ == '__main__':\n",
    "    exitcode = main(sys.argv)\n",
    "    sys.exit(exitcode)\n"
   ]
  },
  {
   "cell_type": "markdown",
   "metadata": {},
   "source": [
    "## Solutions\n",
    "\n",
    "Solutions for the excercises are given  below. Programming is like playing the piano: excercise, excercise, excercise. You learn most from typing each single word yourself. If you have no clue what to do you can have a look, but only after your first and second try. Remember there are many ways to come to a solution. Your idea might be valid as well. Discuss with your teacher the outcome or the differences.\n",
    "\n",
    "<p><a href=\"comprehensions_excercise_uitwerkingen.py\">comprehensions_excercise_uitwerkingen.py</a></p>\n",
    "<p><a href=\"dna_convert_uitwerking.py\">dna_convert_uitwerking.py</a></p>\n",
    "\n"
   ]
  }
 ],
 "metadata": {
  "kernelspec": {
   "display_name": "Python 3",
   "language": "python",
   "name": "python3"
  },
  "language_info": {
   "codemirror_mode": {
    "name": "ipython",
    "version": 3
   },
   "file_extension": ".py",
   "mimetype": "text/x-python",
   "name": "python",
   "nbconvert_exporter": "python",
   "pygments_lexer": "ipython3",
   "version": "3.5.2"
  }
 },
 "nbformat": 4,
 "nbformat_minor": 2
}
