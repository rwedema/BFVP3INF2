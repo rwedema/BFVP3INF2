{
 "cells": [
  {
   "cell_type": "markdown",
   "metadata": {},
   "source": [
    "# Animation exercises (Informatics II)\n",
    "\n",
    "author: F. Feenstra\n",
    "\n",
    "This week you will work on the assignment to animate an object following a sinuswave path. In this tutorial we will explain how to calculate the sinuswave path and we will use turtle to animate the sinuswave. Make sure you write your own script according the template. If you want to challenge yourself try to seperate the sinus calculations from the main module and import the sinuspath calculations as a seperate module.\n",
    "\n"
   ]
  },
  {
   "cell_type": "markdown",
   "metadata": {},
   "source": [
    "---"
   ]
  },
  {
   "cell_type": "markdown",
   "metadata": {},
   "source": [
    "\n",
    "## I. Calculating sinuswave path\n",
    "\n",
    "In this assignment we will compute the sinuswave. The sinuswave is computed by \n",
    "\n",
    "$y(t) = A\\sin(2 \\pi f t + \\varphi)$\n",
    "\n",
    "where $A$ is the Amplitude, $f$ is the frequency and $\\varphi$ is the phase. We can translate this formula in python using the following code: \n",
    "\n"
   ]
  },
  {
   "cell_type": "code",
   "execution_count": null,
   "metadata": {
    "collapsed": true
   },
   "outputs": [],
   "source": [
    "def comp_y(t):\n",
    "    \"\"\"compute the y value of the sin wave at the for a specific sample\"\"\"\n",
    "    y_t = amplitude * np.sin(2*np.pi * frequency * (t/sample_rate) + phase) \n",
    "    return y_t"
   ]
  },
  {
   "cell_type": "markdown",
   "metadata": {},
   "source": [
    "This function computes the y-value for a particular x-value (time t). If we want to compute a sinus wave for time 0 till time 99 we need to compute 100 y values along with the 100 x values (t = 0..99). The following code demonstrates this. "
   ]
  },
  {
   "cell_type": "code",
   "execution_count": 2,
   "metadata": {},
   "outputs": [
    {
     "data": {
      "image/png": "[encoded data removed]",
      "text/plain": [
       "<matplotlib.figure.Figure at 0x118d3cef0>"
      ]
     },
     "metadata": {},
     "output_type": "display_data"
    },
    {
     "data": {
      "text/plain": [
       "0"
      ]
     },
     "execution_count": 2,
     "metadata": {},
     "output_type": "execute_result"
    }
   ],
   "source": [
    "#IMPORTS\n",
    "import matplotlib.pyplot as plt \n",
    "import numpy as np \n",
    "import sys\n",
    "\n",
    "#GLOBALS\n",
    "SAMPLE_RATE = 100 \n",
    "FREQUENCY = 3\n",
    "AMPLITUDE = 2\n",
    "PHASE = 0.5\n",
    "\n",
    "#DEFINITIONS\n",
    "def comp_y(t):\n",
    "    \"\"\"compute the y value of the sin wave at the for a specific sample\"\"\"\n",
    "    y_t = AMPLITUDE * np.sin(2*np.pi * FREQUENCY * (t/SAMPLE_RATE) + PHASE) \n",
    "    return y_t\n",
    "\n",
    "def comp_amplitude(x):\n",
    "    \"\"\"compute the y value of the sin wave at the for each sample\"\"\"\n",
    "    y = []\n",
    "    for t in x:\n",
    "        y.append(comp_y(t))\n",
    "    return y\n",
    "\n",
    "def main():\n",
    "    # eliminate this line in IDLE or pycharm \n",
    "    % matplotlib inline \n",
    " \n",
    "    x = np.arange(SAMPLE_RATE) # the points on the x axis for plotting\n",
    "    y = comp_amplitude(x) # the points on the y axis for plotting\n",
    "    plt.plot(x,y)\n",
    "    plt.show()\n",
    "    return 0\n",
    "\n",
    "main()\n"
   ]
  },
  {
   "cell_type": "markdown",
   "metadata": {},
   "source": [
    "The demonstrated code imports the module matplotlib and numpy. The module matplotlib is used to plot the values and the numpy module is used for the methods .arange and .pi"
   ]
  },
  {
   "cell_type": "markdown",
   "metadata": {},
   "source": [
    "To understand more about the .arange method we can print the documentationhelp(\n",
    "\n",
    "    print(getattr(np, \"arange\").__doc__)\n",
    "  \n",
    "or launch the help function\n",
    "\n",
    "    help(np.arange)\n",
    "    "
   ]
  },
  {
   "cell_type": "markdown",
   "metadata": {},
   "source": [
    "The value np.pi is as follow:"
   ]
  },
  {
   "cell_type": "code",
   "execution_count": null,
   "metadata": {
    "collapsed": true
   },
   "outputs": [],
   "source": [
    "print(np.pi)"
   ]
  },
  {
   "cell_type": "markdown",
   "metadata": {},
   "source": [
    "## Assignment I: play with sinus\n",
    "\n",
    "Print the documentation of the arange method. What does the method do?\n",
    "\n",
    "Write a script that plots a sinus wave. Adjust the values of sample_rate, frequency, amplitude and phase. What is the effect? Make sure that you write the script using the template. Use docstrings for every function. Run the script in IDLE or pycharm. \n",
    "\n",
    "If you want to challenge yourself you can make the script with an own made\n",
    "module that you import."
   ]
  },
  {
   "cell_type": "markdown",
   "metadata": {},
   "source": [
    "---"
   ]
  },
  {
   "cell_type": "markdown",
   "metadata": {
    "collapsed": true
   },
   "source": [
    "## II. Sinus the turtle\n",
    "\n",
    "Now we found out how to code the path of a sinuswave we can let our turtle walk a sinuswave path. We have to think about several things. If we want to use the full screen we have to depend our sample_rate on the screen size. \n"
   ]
  },
  {
   "cell_type": "code",
   "execution_count": 3,
   "metadata": {
    "collapsed": true
   },
   "outputs": [],
   "source": [
    "#IMPORTS\n",
    "import turtle\n",
    "\n",
    "MARGE = 10\n",
    "SCREEN = turtle.Screen()\n",
    "SAMPLE_RATE = int(SCREEN.window_width()/2 -MARGE) - int(MARGE - SCREEN.window_width()/2)"
   ]
  },
  {
   "cell_type": "markdown",
   "metadata": {},
   "source": [
    "Further more I have to make sure that my turtle only shows up when I am in the right position"
   ]
  },
  {
   "cell_type": "code",
   "execution_count": null,
   "metadata": {
    "collapsed": true
   },
   "outputs": [],
   "source": [
    "start = int(MARGE - SCREEN.window_width()/2)\n",
    "dude = turtle.Turtle(shape=\"turtle\", visible = False)\n",
    "dude.penup()\n",
    "i = start\n",
    "for j in range(0, SAMPLE_RATE):\n",
    "    dude.goto(i,y[j])\n",
    "    if i == start:\n",
    "        dude.pendown()\n",
    "        dude.showturtle()\n",
    "    i +=1"
   ]
  },
  {
   "cell_type": "markdown",
   "metadata": {},
   "source": [
    "With the method setheading() I can set the direction of the turtle's head"
   ]
  },
  {
   "cell_type": "code",
   "execution_count": null,
   "metadata": {
    "collapsed": true
   },
   "outputs": [],
   "source": [
    "dude.setheading(np.arctan2(y[j]-pos[1], i-pos[0]) * 180 / np.pi) "
   ]
  },
  {
   "cell_type": "markdown",
   "metadata": {},
   "source": [
    "The final code for the turtle sinusmove is as follow:"
   ]
  },
  {
   "cell_type": "code",
   "execution_count": null,
   "metadata": {
    "collapsed": true
   },
   "outputs": [],
   "source": [
    "#!/usr/bin/env python3\n",
    "\n",
    "\"\"\"\n",
    "program shows turtle following sinuswave\n",
    "\"\"\"\n",
    "\n",
    "__author__ = \"F.Feenstra\"\n",
    "\n",
    "## CODE\n",
    "\n",
    "#IMPORTS\n",
    "import numpy as np\n",
    "import sys\n",
    "import turtle\n",
    "\n",
    "#CONSTANTS\n",
    "MARGE = 10\n",
    "SCREEN = turtle.Screen()\n",
    "SAMPLE_RATE = int(SCREEN.window_width()/2 -MARGE) - int(MARGE - SCREEN.window_width()/2)\n",
    "AMPLITUDE = SCREEN.window_height()/4\n",
    "PHASE = 0\n",
    "FREQUENCY = 2\n",
    "\n",
    "#FUNCTIONS\n",
    "\n",
    "def comp_y(t):\n",
    "    \"\"\"compute the y value of the sin wave at the for a specific sample\"\"\"\n",
    "    y_t = AMPLITUDE * np.sin(2 * np.pi * FREQUENCY * (t/SAMPLE_RATE) + PHASE)\n",
    "    return y_t\n",
    "\n",
    "\n",
    "def comp_amplitude(x):\n",
    "    \"\"\"compute the y value of the sin wave at the for each sample\"\"\"\n",
    "    y = []\n",
    "    for t in x:\n",
    "        y.append(comp_y(t))\n",
    "    return y\n",
    "\n",
    "\n",
    "def turtle_wave(start, y):\n",
    "    \"\"\"Draw a turtle and move it over the sinewave, starting at _start_\"\"\"\n",
    "    dude = turtle.Turtle(shape=\"turtle\", visible = False)\n",
    "    dude.penup()\n",
    "    i = start\n",
    "    for j in range(0, SAMPLE_RATE):\n",
    "        pos = dude.pos()\n",
    "        dude.setheading(np.arctan2(y[j]-pos[1], i-pos[0]) * 180 / np.pi) \n",
    "        dude.goto(i, y[j])\n",
    "        if i == start:\n",
    "            dude.pendown()\n",
    "            dude.showturtle()\n",
    "        i +=1\n",
    "    return\n",
    "\n",
    "\n",
    "def main():\n",
    "    \"\"\"Main function to calculate sine wave and draw turtle\"\"\"\n",
    "    start = int(MARGE - SCREEN.window_width()/2)\n",
    "    end = int(SCREEN.window_width()/2 - MARGE)\n",
    "    x = np.arange(start, end) # the points on the x axis for plotting\n",
    "    y = comp_amplitude(x) # the points on the y axis for plotting\n",
    "    turtle_wave(start, y)\n",
    "    return 0\n",
    "\n",
    "\n",
    "if __name__ == '__main__':\n",
    "    exitcode = main()\n",
    "    sys.exit(exitcode)"
   ]
  },
  {
   "cell_type": "markdown",
   "metadata": {},
   "source": [
    "## Assignment II: Go Left\n",
    "\n",
    "The code above makes the turtle to move from left to the right. Change the code to make the turtle move from left to right and **then from right to left**. Basically it should move backwards after it moved forward. Make sure that the turtles head is in the right direction as well. See also the <a href = \"https://docs.python.org/3/library/turtle.html\">python docs for turtle </a> \n"
   ]
  }
 ],
 "metadata": {
  "kernelspec": {
   "display_name": "Python 3",
   "language": "python",
   "name": "python3"
  },
  "language_info": {
   "codemirror_mode": {
    "name": "ipython",
    "version": 3
   },
   "file_extension": ".py",
   "mimetype": "text/x-python",
   "name": "python",
   "nbconvert_exporter": "python",
   "pygments_lexer": "ipython3",
   "version": "3.5.2"
  }
 },
 "nbformat": 4,
 "nbformat_minor": 2
}
