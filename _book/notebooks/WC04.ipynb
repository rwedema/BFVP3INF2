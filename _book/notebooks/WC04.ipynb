{
 "cells": [
  {
   "cell_type": "markdown",
   "metadata": {},
   "source": [
    "# Some fun with functions and fractals (Informatics II)"
   ]
  },
  {
   "cell_type": "markdown",
   "metadata": {},
   "source": [
    "author: Tsjerk Wassenaar\n",
    "\n",
    "The topic of this tutorial is advanced functions in Python. This consists of several aspects:\n",
    "\n",
    "* Functions with variable arguments lists (\\*args and \\*\\*kwargs)\n",
    "* Recursive functions\n",
    "* Functions as objects\n",
    "* Functions returning functions (closures)\n",
    "\n",
    "The last two of these are mainly to give a bit of feel of what functions are (in Python) and what you can do with them and are there for *passive learning*. The first two are part of the core of Informatics 2. \n",
    "\n",
    "The aspects of functions named above are here demonstrated by making fractals, which are mathematical images with *scaled symmetry*: the image consists of smaller copies of itself, which consist of smaller copies of themselves. Such fractals actually occur in biological systems, and can be seen in the structures of weeds and trees. Nice examples are to be find <a href=\"http://paulbourke.net/fractals/fracintro/\">here</a>\n",
    "\n",
    "We'll be drawing the fractals first in 2D with turtle graphics. Towards the end, we'll be able to extend to 3D and generate a fractal structure for drawing with **pypovray** (optional)."
   ]
  },
  {
   "cell_type": "markdown",
   "metadata": {},
   "source": [
    "Just to set a few things straight:\n",
    "\n",
    "* You **don't** need to know fractals, L-systems and any of the specific ones named and used.\n",
    "* You **do** need to understand *recursive functions* and *recursion depth*\n",
    "\n",
    "\n",
    "* You **don't** need to know (reproduce) the functions used in this tutorial\n",
    "* You **do** need to understand how the functions work and be able to put them to use in the template\n",
    "\n",
    "\n",
    "* You **do** need to write a template and put the functions in to make this work. Although... you can also work interactively to try things out.\n",
    "\n",
    "When writing a turtle program using the template, you can start with the following basic main function, to keep the image until you press the _any_ key:"
   ]
  },
  {
   "cell_type": "code",
   "execution_count": null,
   "metadata": {
    "collapsed": true
   },
   "outputs": [],
   "source": [
    "def main(args):\n",
    "    \"\"\"Docstring goes here\"\"\"\n",
    "    \n",
    "    # Preparation\n",
    "    \n",
    "    # Processing\n",
    "\n",
    "    # Finishing\n",
    "    input('Press any key to continue')\n",
    "\n",
    "    return 0"
   ]
  },
  {
   "cell_type": "markdown",
   "metadata": {},
   "source": [
    "## Recursion"
   ]
  },
  {
   "cell_type": "code",
   "execution_count": null,
   "metadata": {
    "collapsed": true
   },
   "outputs": [],
   "source": [
    "def recurse():\n",
    "    print(\"A recursive function is a function that calls itself, like:\")\n",
    "    recurse()\n",
    "    \n",
    "recurse()"
   ]
  },
  {
   "cell_type": "markdown",
   "metadata": {},
   "source": [
    "So, a recursive function is one that calls itself.\n",
    "\n",
    "Well, that's that. So, we can continue to the next topic...\n",
    "\n",
    "On the other hand, maybe it is good to think about how that works in practice and good to think about why you'd want to do that. Just to set things straight: there is nothing you can do with recursion that you can't do with a for loop and creative use of (nested) lists. However, in some cases, you'll have to get really creative, and you may be better off if you can split your problem into parts and do try the same function/strategy on the parts.\n",
    "\n",
    "A classic example of a recursive function is the factorial. The factorial of an integer is the joint product of that number and *all* foregoing positive numbers. It's typically written as n!. So the outcome of 5! is 5\\*4\\*3\\*2\\*1 = 120. There is one additional rule: by definition 0! = 1\n",
    "\n",
    "With that, we can write a factorial function. First, look at the for-loop way:"
   ]
  },
  {
   "cell_type": "code",
   "execution_count": null,
   "metadata": {
    "collapsed": true
   },
   "outputs": [],
   "source": [
    "def factorial(n):\n",
    "    result = 1\n",
    "    for num in range(n,0,-1):\n",
    "        result *= num\n",
    "    return result"
   ]
  },
  {
   "cell_type": "markdown",
   "metadata": {},
   "source": [
    "We can turn this into a recursive function, by considering two cases: n is 0, or n is not. If n is 0, then the result is 1 (by definition). If n is not (yet) zero, then the result is n * (n-1)!, so n times the factorial of n-1:"
   ]
  },
  {
   "cell_type": "code",
   "execution_count": null,
   "metadata": {
    "collapsed": true
   },
   "outputs": [],
   "source": [
    "def factorial(n):\n",
    "    if not n:\n",
    "        return 1\n",
    "    return n * factorial(n - 1)"
   ]
  },
  {
   "cell_type": "markdown",
   "metadata": {},
   "source": [
    "### Assignment:\n",
    "\n",
    "Write a program factorial.py that takes a number as command line argument and prints the factorial of that number. Start with a correct template and use the recursive function. Write docstrings!"
   ]
  },
  {
   "cell_type": "markdown",
   "metadata": {},
   "source": [
    "## Fractals and recursion\n",
    "\n",
    "For fractals, we'll focus on Lindenmayer fractals (L-systems). These are written as a series of steps, like forward, right, and left. The trick is that a step can be replaced by a sequence of steps, in which steps can be replaced by that sequence of steps again, and so on and so forth. Because of time, that has to end somewhere, and we'll call that the depth of the sequence.\n",
    "\n",
    "So, the L-system consists of:\n",
    "\n",
    "* the **axiom**: the start sequence\n",
    "* the **rules**: the replacement rules\n",
    "* the **depth**: the depth of the recursion\n",
    "\n",
    "The result is a sequence of instructions (forward, right, and left) that we can nicely pass to our turtle friend Don."
   ]
  },
  {
   "cell_type": "code",
   "execution_count": null,
   "metadata": {
    "collapsed": true
   },
   "outputs": [],
   "source": [
    "import turtle\n",
    "\n",
    "don = turtle.Turtle(shape=\"turtle\")"
   ]
  },
  {
   "cell_type": "markdown",
   "metadata": {},
   "source": [
    "We start off with the **Hilbert function**, which can be written as an L-system (thanks Wikipedia):\n",
    "\n",
    "\n",
    "* axiom: A\n",
    "* rules:\n",
    " - A → -BF+AFA+FB-\n",
    " - B → +AF-BFB-FA+\n",
    "\n",
    "Here, \"F\" means \"draw forward\", \"−\" means \"turn left 90°\", \"+\" means \"turn right 90°\" (see turtle graphics), and \"A\" and \"B\" are ignored during drawing.\n",
    "\n",
    "**This means** that we start with 'A', and then replace 'A' with '-BF+AFA+FB-'. In the result, we replace each 'A' with that same string, but each B is replaced with '+AF-BFB-FA+'. And we can repeat that..."
   ]
  },
  {
   "cell_type": "code",
   "execution_count": null,
   "metadata": {
    "collapsed": true
   },
   "outputs": [],
   "source": [
    "def hilbert(depth, sequence='A'):\n",
    "    if not depth: \n",
    "        return sequence\n",
    "    out = []\n",
    "    for character in sequence:\n",
    "        if character == 'A':\n",
    "            out.extend('-BF+AFA+FB-')\n",
    "        elif character == 'B':\n",
    "            out.extend('+AF-BFB-FA+')\n",
    "        else:\n",
    "            out.append(character)\n",
    "    return hilbert(depth - 1, out)"
   ]
  },
  {
   "cell_type": "code",
   "execution_count": null,
   "metadata": {
    "collapsed": true
   },
   "outputs": [],
   "source": [
    "print(\"\".join(hilbert(0)))"
   ]
  },
  {
   "cell_type": "code",
   "execution_count": null,
   "metadata": {
    "collapsed": true
   },
   "outputs": [],
   "source": [
    "print(\"\".join(hilbert(1)))"
   ]
  },
  {
   "cell_type": "code",
   "execution_count": null,
   "metadata": {
    "collapsed": true
   },
   "outputs": [],
   "source": [
    "print(\"\".join(hilbert(2)))"
   ]
  },
  {
   "cell_type": "code",
   "execution_count": null,
   "metadata": {
    "collapsed": true
   },
   "outputs": [],
   "source": [
    "print(\"\".join(hilbert(3)))"
   ]
  },
  {
   "cell_type": "markdown",
   "metadata": {},
   "source": [
    "Now, for each F in the sequence don goes forward, for each - he goes left and for each + he goes right. We can write this with an if/elif clause:"
   ]
  },
  {
   "cell_type": "code",
   "execution_count": null,
   "metadata": {
    "collapsed": true
   },
   "outputs": [],
   "source": [
    "for char in hilbert(3):\n",
    "    if char == 'F':\n",
    "        don.forward(10)\n",
    "    elif char == '+':\n",
    "        don.right(90)\n",
    "    elif char == '-':\n",
    "        don.left(90)\n"
   ]
  },
  {
   "cell_type": "markdown",
   "metadata": {},
   "source": [
    "This is a function specific for the Hilbert function, which is pretty cool, as it generates a maze-like drawing. But there are many other interesting L-systems, and we can capture more of them, using the advanced function syntax, which allows us to specify an arbitrary number of keyword arguments:"
   ]
  },
  {
   "cell_type": "code",
   "execution_count": null,
   "metadata": {
    "collapsed": true
   },
   "outputs": [],
   "source": [
    "def l_system(depth, axiom, **rules):\n",
    "    if not depth:\n",
    "        return axiom\n",
    "    \n",
    "    # Basic, most straight-forward implementation\n",
    "    # Note 1: it doesn't matter if axiom is a string or a list\n",
    "    # Note 2: consider the difference between .extend() and .append()\n",
    "    out = []\n",
    "    for char in axiom:\n",
    "        if char in rules:\n",
    "            out.extend(rules[char])\n",
    "        else:\n",
    "            out.append(char)\n",
    "    \n",
    "    # Two alternative implementations. If you want to try \n",
    "    # an alternative, comment out the original first.\n",
    "    # It won't change the answer, but it will take more time\n",
    "    # if you keep the code active.\n",
    "    \n",
    "    # I. Alternative implementation using dict.get\n",
    "    # --------------------------------------------\n",
    "    # out = []\n",
    "    # for char in axiom:\n",
    "    #     out.extend(rules.get(char, [char]))\n",
    "    \n",
    "    # II. Alternative implementation in one line using list comprehension\n",
    "    # -------------------------------------------------------------------\n",
    "    # out = [i for char in axiom for i in rules.get(char, char)]\n",
    "    \n",
    "    # Note 3: See how comments are used to annotate the code... :)\n",
    "    \n",
    "    return l_system(depth - 1, out, **rules)"
   ]
  },
  {
   "cell_type": "markdown",
   "metadata": {},
   "source": [
    "With this, we can write the Hilbert function much shorter:"
   ]
  },
  {
   "cell_type": "code",
   "execution_count": null,
   "metadata": {
    "collapsed": true
   },
   "outputs": [],
   "source": [
    "def hilbert(depth):\n",
    "    return l_system(depth, axiom='A', A='-BF+AFA+FB-', B='+AF-BFB-FA+')"
   ]
  },
  {
   "cell_type": "markdown",
   "metadata": {},
   "source": [
    "And we can write a Sierpinski gasket, using\n",
    "\n",
    "* **axiom**: f\n",
    "* **rules**:\n",
    "  - F: f+F+f\n",
    "  - f: F-f-F\n",
    "\n",
    "With the note that both f and F mean forward."
   ]
  },
  {
   "cell_type": "code",
   "execution_count": null,
   "metadata": {
    "collapsed": true
   },
   "outputs": [],
   "source": [
    "def sierpinski_gasket(depth):\n",
    "    return l_system(depth, axiom='f', F='f+F+f', f='F-f-F')"
   ]
  },
  {
   "cell_type": "code",
   "execution_count": null,
   "metadata": {
    "collapsed": true
   },
   "outputs": [],
   "source": [
    "for char in sierpinski_gasket(7):\n",
    "    if char in 'Ff':\n",
    "        don.forward(1)\n",
    "    elif char == '+':\n",
    "        don.right(60)\n",
    "    elif char == '-':\n",
    "        don.left(60)"
   ]
  },
  {
   "cell_type": "markdown",
   "metadata": {},
   "source": [
    "The next step is getting rid of the if/elif/elif/... clause, to make the handling of actions a bit nicer."
   ]
  },
  {
   "cell_type": "markdown",
   "metadata": {},
   "source": [
    "## Functions as objects"
   ]
  },
  {
   "cell_type": "markdown",
   "metadata": {},
   "source": [
    "Getting rid of an if/elif/.. construct typically involves introducing a dictionary. A good reason to do that is that a dictionary requires less bookkeeping. However, in our case, we deal with actions, not values. Then again, actions are processes, which can be described as functions. So, we'll put *functions* in a dictionary!\n",
    "\n",
    "Again, what we'll do is just a different way, whether it's actually better depends on the situation.\n",
    "\n",
    "The idea of putting functions in a dictionary hinges on using functions as objects. Functions are objects that are *callable*: you can add parentheses to invoke the action. Without parentheses, it's just the function object. Consider the following example:"
   ]
  },
  {
   "cell_type": "code",
   "execution_count": null,
   "metadata": {
    "collapsed": true
   },
   "outputs": [],
   "source": [
    "blabla = print\n",
    "blabla(\"Hello World!\")"
   ]
  },
  {
   "cell_type": "markdown",
   "metadata": {},
   "source": [
    "So, we assign the print *object* to a new variable, called *blabla*, and we can use that name too as print function. Likewise, we can store the function in a tuple, list, set or dictionary:"
   ]
  },
  {
   "cell_type": "code",
   "execution_count": null,
   "metadata": {
    "collapsed": true
   },
   "outputs": [],
   "source": [
    "actions = {\"p\": print}\n",
    "actions[\"p\"](\"Hello World!\")"
   ]
  },
  {
   "cell_type": "markdown",
   "metadata": {},
   "source": [
    "Notice what happens there. We store the print function in a dictionary, bound to the key \"p\". Then we use the key \"p\" to get the corresponding value from the dictionary, and we *call* the process, by adding the parentheses with the argument \"Hello World!\".\n",
    "\n",
    "Now let's do that with the actions for Don."
   ]
  },
  {
   "cell_type": "code",
   "execution_count": null,
   "metadata": {
    "collapsed": true
   },
   "outputs": [],
   "source": [
    "def forward(turt, step=5):\n",
    "    turt.forward(step)\n",
    "\n",
    "\n",
    "def right(turt, angle=90):\n",
    "    turt.right(angle)\n",
    "\n",
    "    \n",
    "def left(turt, angle=90):\n",
    "    turt.left(angle)\n",
    "\n",
    "\n",
    "actions = {'F': forward, 'f': forward, '+': right, '-': left}"
   ]
  },
  {
   "cell_type": "markdown",
   "metadata": {},
   "source": [
    "Take a moment and think about the function definitions (and write docstrings!). The functions are very simple, but it's not easily possible to actually put the turtle functions in the dictionary. Well, actually it *is* easy once you know how, but it's not actually easy to call them nicely then. The approach above is easier to deal with:"
   ]
  },
  {
   "cell_type": "code",
   "execution_count": null,
   "metadata": {
    "collapsed": true
   },
   "outputs": [],
   "source": [
    "for char in hilbert(5):\n",
    "    if char in actions:\n",
    "        actions[char](don)"
   ]
  },
  {
   "cell_type": "markdown",
   "metadata": {},
   "source": [
    "## Functions with function definitions"
   ]
  },
  {
   "cell_type": "markdown",
   "metadata": {},
   "source": [
    "And now we'll be taking a step further. Note: **this is not mandatory stuff for the exam**. However, the following things may give you a good feel for the idea of functions being objects, just like (other) variables. So, to allow the actions to have different angles/steps, to deal with the Sierpinski thing, we'll generate the actions dictionary with a function, in which we can set the angle and the step:"
   ]
  },
  {
   "cell_type": "code",
   "execution_count": null,
   "metadata": {
    "collapsed": true
   },
   "outputs": [],
   "source": [
    "def actions(step, angle):\n",
    "    \n",
    "    def forward(turt):\n",
    "        turt.forward(step)\n",
    "        \n",
    "    def right(turt):\n",
    "        turt.right(angle)\n",
    "        \n",
    "    def left(turt):\n",
    "        turt.left(angle)\n",
    "    \n",
    "    return {'F': forward, 'f': forward, '+': right, '-': left}"
   ]
  },
  {
   "cell_type": "markdown",
   "metadata": {},
   "source": [
    "Now, put this function in your code and write the docstring. Take a moment to see what is happening here. *Within the function **actions** we define three functions, which take a **turt** as argument. The three functions are put in a dictionary, and this dictionary is returned.* The dictionary can then be used:"
   ]
  },
  {
   "cell_type": "code",
   "execution_count": null,
   "metadata": {
    "collapsed": true
   },
   "outputs": [],
   "source": [
    "actions_dict = actions(step=1, angle=60)\n",
    "for char in sierpinski_gasket(7):\n",
    "    if char in actions_dict:\n",
    "        actions_dict[char](don)"
   ]
  },
  {
   "cell_type": "markdown",
   "metadata": {},
   "source": [
    "## Solutions\n",
    "\n",
    "Solutions for the excercises are given  below. Programming is like playing the piano: excercise, excercise, excercise. You learn most from typing each single word yourself. If you have no clue what to do you can have a look, but only after your first and second try. Remember there are many ways to come to a solution. Your idea might be valid as well. Discuss with your teacher the outcome or the differences.\n",
    "\n",
    "<p><a href=\"sierpinski.py\">sierpinski.py</a></p>"
   ]
  }
 ],
 "metadata": {
  "kernelspec": {
   "display_name": "Python 3",
   "language": "python",
   "name": "python3"
  },
  "language_info": {
   "codemirror_mode": {
    "name": "ipython",
    "version": 3
   },
   "file_extension": ".py",
   "mimetype": "text/x-python",
   "name": "python",
   "nbconvert_exporter": "python",
   "pygments_lexer": "ipython3",
   "version": "3.5.2"
  }
 },
 "nbformat": 4,
 "nbformat_minor": 2
}
