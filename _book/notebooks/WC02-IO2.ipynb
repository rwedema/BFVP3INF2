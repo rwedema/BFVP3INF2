{
 "cells": [
  {
   "cell_type": "markdown",
   "metadata": {},
   "source": [
    "## Reading fasta files\n",
    "\n",
    "For this tutorial you need to download data from <a href=\"https://bioinf.nl/~fennaf/minor/BRCA.zip\">here</a>\n",
    "\n",
    "Write a program which does the following:\n",
    "\n",
    "    I. A nucleotide / amino acid counter\n",
    "    II. Report whether it concerns nucleotides or amino acids\n",
    "    III. It can read any number of FASTA files (via commandline)\n",
    "    IV. Calculate the nucleotide composition (number of GATCs) and print it\n",
    "    V. Calculate G-C percentage and report it\n",
    "    \n",
    "Where to start? The best thing is to first set up a template. Open a new python file in Idle3, name it for example IO2.py and save it in your working directory. Now type the following code in the python file:"
   ]
  },
  {
   "cell_type": "code",
   "execution_count": null,
   "metadata": {},
   "outputs": [],
   "source": [
    "#!/usr/bin/env python3\n",
    "\n",
    "\"\"\"this programme reads fasta file(s) and reports number of nucleotides/amino acids\"\"\"\n",
    "\n",
    "# METADATA VARIABLES\n",
    "__author__ = \"my name\"\n",
    "__version__ = \"2017.1\"\n",
    "\n",
    "# IMPORTS\n",
    "import sys\n",
    "\n",
    "# LOGICA\n",
    "\n",
    "# write your code here"
   ]
  },
  {
   "cell_type": "markdown",
   "metadata": {},
   "source": [
    "The next step is more difficult. You must first start thinking about how to translate what you have to do to program code. It is best to first come up with an algorithm in your own words. Start simple on high level detail and then slowly expand your code with more details. For example, you first start with a program that reads a fastafile and prints the contents of the file."
   ]
  },
  {
   "cell_type": "code",
   "execution_count": null,
   "metadata": {},
   "outputs": [],
   "source": [
    "#read filename from commandline\n",
    "#open file\n",
    "#read the file line by line and for each line\n",
    "    #do something (like printing)"
   ]
  },
  {
   "cell_type": "markdown",
   "metadata": {},
   "source": [
    "Translate now your algorithm into code"
   ]
  },
  {
   "cell_type": "code",
   "execution_count": null,
   "metadata": {},
   "outputs": [],
   "source": [
    "#!/usr/bin/env python3\n",
    "\n",
    "\"\"\"this programme reads fasta file(s) and reports number of nucleotides/amino acids\"\"\"\n",
    "\n",
    "# METADATA VARIABLES\n",
    "__author__ = \"my name\"\n",
    "__version__ = \"2017.1\"\n",
    "\n",
    "# IMPORTS\n",
    "import sys\n",
    "\n",
    "# LOGICA\n",
    "\n",
    "def main(args):\n",
    "    #preperation\n",
    "    filename = args[1]\n",
    "    f = open(filename)\n",
    "    #work\n",
    "    for line in f:\n",
    "        print(line, end=\"\")\n",
    "    #finilize\n",
    "    f.close()\n",
    "    return 0\n",
    "\n",
    "if __name__ == '__main__':\n",
    "    exitcode= main(sys.argv)\n",
    "    sys.exit(exitcode)\n",
    "    "
   ]
  },
  {
   "cell_type": "markdown",
   "metadata": {},
   "source": [
    "If I now call via the command line  `IO2.py CFTR_protein.fasta` the programm will print the content of the `CFTR_protein.fasta` fasta file\n",
    "\n",
    "`>gi|90421313|ref|NP_000483.3| cystic fibrosis transmembrane conductance regulator [Homo sapiens]\n",
    "MQRSPLEKASVVSKLFFSWTRPILRKGYRQRLELSDIYQIPSVDSADNLSEKLEREWDRELASKKNPKLI\n",
    "NALRRCFFWRFMFYGIFLYLGEVTKAVQPLLLGRIIASYDPDNKEERSIAIYLGIGLCLLFIVRTLLLHP\n",
    "AIFGLHHIGMQMRIAMFSLIYKKTLKLSSRVLDKISIGQLVSLLSNNLNKFDEGLALAHFVWIAPLQVAL\n",
    "LMGLIWELLQASAFCGLGFLIVLALFQAGLGRMMMKYRDQRAGKISERLVITSEMIENIQSVKAYCWEEA\n",
    "MEKMIENLRQTELKLTRKAAYVRYFNSSAFFFSGFFVVFLSVLPYALIKGIILRKIFTTISFCIVLRMAV\n",
    "TRQFPWAVQTWYDSLGAINKIQDFLQKQEYKTLEYNLTTTEVVMENVTAFWEEGFGELFEKAKQNNNNRK\n",
    "TSNGDDSLFFSNFSLLGTPVLKDINFKIERGQLLAVAGSTGAGKTSLLMVIMGELEPSEGKIKHSGRISF\n",
    "CSQFSWIMPGTIKENIIFGVSYDEYRYRSVIKACQLEEDISKFAEKDNIVLGEGGITLSGGQRARISLAR\n",
    "AVYKDADLYLLDSPFGYLDVLTEKEIFESCVCKLMANKTRILVTSKMEHLKKADKILILHEGSSYFYGTF\n",
    "SELQNLQPDFSSKLMGCDSFDQFSAERRNSILTETLHRFSLEGDAPVSWTETKKQSFKQTGEFGEKRKNS\n",
    "ILNPINSIRKFSIVQKTPLQMNGIEEDSDEPLERRLSLVPDSEQGEAILPRISVISTGPTLQARRRQSVL\n",
    "NLMTHSVNQGQNIHRKTTASTRKVSLAPQANLTELDIYSRRLSQETGLEISEEINEEDLKECFFDDMESI\n",
    "PAVTTWNTYLRYITVHKSLIFVLIWCLVIFLAEVAASLVVLWLLGNTPLQDKGNSTHSRNNSYAVIITST\n",
    "SSYYVFYIYVGVADTLLAMGFFRGLPLVHTLITVSKILHHKMLHSVLQAPMSTLNTLKAGGILNRFSKDI\n",
    "AILDDLLPLTIFDFIQLLLIVIGAIAVVAVLQPYIFVATVPVIVAFIMLRAYFLQTSQQLKQLESEGRSP\n",
    "IFTHLVTSLKGLWTLRAFGRQPYFETLFHKALNLHTANWFLYLSTLRWFQMRIEMIFVIFFIAVTFISIL\n",
    "TTGEGEGRVGIILTLAMNIMSTLQWAVNSSIDVDSLMRSVSRVFKFIDMPTEGKPTKSTKPYKNGQLSKV\n",
    "MIIENSHVKKDDIWPSGGQMTVKDLTAKYTEGGNAILENISFSISPGQRVGLLGRTGSGKSTLLSAFLRL\n",
    "LNTEGEIQIDGVSWDSITLQQWRKAFGVIPQKVFIFSGTFRKNLDPYEQWSDQEIWKVADEVGLRSVIEQ\n",
    "FPGKLDFVLVDGGCVLSHGHKQLMCLARSVLSKAKILLLDEPSAHLDPVTYQIIRRTLKQAFADCTVILC\n",
    "EHRIEAMLECQQFLVIEENKVRQYDSIQKLLNERSLFRQAISPSDRVKLFPHRNSSKCKSKPQIAALKEE\n",
    "TEEEVQDTRL`\n",
    "\n"
   ]
  },
  {
   "cell_type": "markdown",
   "metadata": {},
   "source": [
    "For the assignment I do not need the first line. I can skip this line by the string method `.startswith()`"
   ]
  },
  {
   "cell_type": "code",
   "execution_count": null,
   "metadata": {},
   "outputs": [],
   "source": [
    "for line in f:\n",
    "    if not line.startswith('>'):\n",
    "        print(line, end=\"\")"
   ]
  },
  {
   "cell_type": "markdown",
   "metadata": {},
   "source": [
    "When I want to read multiple files I can still use  `sys.argv[]` since `sys.argv[]` is a list. `sys.argv[0]` contains the first argument, the pythonfile and  `sys.argv[1]` contains the following argument.  \n",
    "\n",
    "`python3 IO2.py CFTR_protein.fasta`\n",
    "\n",
    "    sys.argv[0] = \"IO2.py\"\n",
    "    sys,argv[1] = \"CFTR_protein.fasta\"\n",
    "    \n",
    "`python3 IO2.py CFTR_protein.fasta CFTR_mRNA.fasta` \n",
    "\n",
    "    sys.argv[0] = \"IO.py\" \n",
    "    sys,argv[1] = \"CFTR_protein.fasta\" \n",
    "    sys.argv[2] = \"CFTR_mRNA.fasta\""
   ]
  },
  {
   "cell_type": "markdown",
   "metadata": {},
   "source": [
    "When I want to adjust the code towards a multiple file reader I can use a for loop like this:"
   ]
  },
  {
   "cell_type": "code",
   "execution_count": null,
   "metadata": {},
   "outputs": [],
   "source": [
    "#!/usr/bin/env python3\n",
    "\n",
    "\"\"\"this programme reads fasta file(s) and reports number of nucleotides/amino acids\"\"\"\n",
    "\n",
    "# METADATA VARIABLES\n",
    "__author__ = \"my name\"\n",
    "__version__ = \"2017.1\"\n",
    "\n",
    "# IMPORTS\n",
    "import sys\n",
    "\n",
    "\n",
    "def main(args):\n",
    "    #preperation\n",
    "    filenames = args[1:]\n",
    "    for file in filenames:\n",
    "        f = open(filename)\n",
    "        #work\n",
    "        for line in f:\n",
    "            print(line, end=\"\")\n",
    "        f.close()\n",
    "    return 0\n",
    "\n",
    "if __name__ == '__main__':\n",
    "    exitcode= main(sys.argv)\n",
    "    sys.exit(exitcode)\n",
    "    "
   ]
  },
  {
   "cell_type": "markdown",
   "metadata": {},
   "source": [
    "So far I have only printed lines of the file. The assignment was that I count number of nucleotides or amino acids. I also have to make a distinction between protein_fasta or nucleotide_fasta. In the case of nucleotide fasta file, I also have to calculate the number of GATCs and the GC count. I can make an algorithm again in the same way:"
   ]
  },
  {
   "cell_type": "code",
   "execution_count": null,
   "metadata": {},
   "outputs": [],
   "source": [
    "#read file\n",
    "#determine type of file\n",
    "#if protein_fasta\n",
    "    #count amino acids\n",
    "#if nucleotide_fasta\n",
    "    #count nucleotides\n",
    "    #calc number of G', number of A's, number of T's, number of C's\n",
    "    #calc GC-count"
   ]
  },
  {
   "cell_type": "markdown",
   "metadata": {},
   "source": [
    "Sometimes it makes sense to put bits of code that belong together and that is executed several times in a function. You can then convert your algorithm into calling functions. A function is defined with `def function_name (argument)`. A function receives value (s) that are used in the function. The function can also return a value."
   ]
  },
  {
   "cell_type": "code",
   "execution_count": null,
   "metadata": {},
   "outputs": [],
   "source": [
    "#!/usr/bin/env python3\n",
    "\n",
    "\"\"\"this programme reads fasta file(s) and reports number of nucleotides/amino acids\"\"\"\n",
    "\n",
    "\n",
    "# METADATA VARIABLES\n",
    "__author__ = \"my name\"\n",
    "__version__ = \"2017.1\"\n",
    "\n",
    "# IMPORTS\n",
    "import sys\n",
    "\n",
    "# LOGICA\n",
    "def count_ATCG(sequence):\n",
    "    A = 0\n",
    "    C = 0\n",
    "    T = 0\n",
    "    G = 0\n",
    "    pass\n",
    "    \n",
    "def count_cg(sequence):\n",
    "    \"\"\"count cg percentage\"\"\"\n",
    "    gc = sequence.count('G') + sequence.count('C')\n",
    "    return gc *100 / len(sequence)\n",
    "\n",
    "def count_aminoc_acids(sequence):\n",
    "    \"\"\"count the amino acids and print the results \"\"\"\n",
    "    amino_acids = 0\n",
    "    # write your code here\n",
    "    pass\n",
    "\n",
    "def count_nucleotides(sequence):\n",
    "    \"\"\"count the nucleotides and print the results\"\"\"\n",
    "    # write your code here\n",
    "    pass\n",
    "\n",
    "def determine_type(sequence):\n",
    "    \"\"\"distinghuis file types\"\"\"\n",
    "    file_type = \"\"\n",
    "    # here you have to come up with a solution to distinghuis file types. \n",
    "    return file_type\n",
    "\n",
    "\n",
    "def main(args):\n",
    "    #preperation\n",
    "    filenames = args[1:]\n",
    "    for file in filenames:\n",
    "        f = open(filename)       \n",
    "        sequence = fetch_sequence(f)\n",
    "        file_type = determine_type(sequence) \n",
    "        #if protein_fasta\n",
    "            #count nucleotides\n",
    "        #if nucleotide_fasta\n",
    "            #count nucleotides\n",
    "            #calc number of G', number of A's, number of T's, number of C's\n",
    "            #calc GC-count\n",
    "        f.close()\n",
    "    return 0\n",
    "\n",
    "if __name__ == '__main__':\n",
    "    exitcode= main(sys.argv)\n",
    "    sys.exit(exitcode)\n",
    "    "
   ]
  },
  {
   "cell_type": "markdown",
   "metadata": {},
   "source": [
    "Finish the script by yourself. If you do not know the solution try to formulate pseudo code first and discuss with your class mates the solution."
   ]
  },
  {
   "cell_type": "code",
   "execution_count": null,
   "metadata": {},
   "outputs": [],
   "source": []
  }
 ],
 "metadata": {
  "kernelspec": {
   "display_name": "Python 3",
   "language": "python",
   "name": "python3"
  },
  "language_info": {
   "codemirror_mode": {
    "name": "ipython",
    "version": 3
   },
   "file_extension": ".py",
   "mimetype": "text/x-python",
   "name": "python",
   "nbconvert_exporter": "python",
   "pygments_lexer": "ipython3",
   "version": "3.6.3"
  }
 },
 "nbformat": 4,
 "nbformat_minor": 2
}
