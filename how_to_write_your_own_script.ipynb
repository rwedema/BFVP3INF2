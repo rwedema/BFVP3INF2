{
 "cells": [
  {
   "cell_type": "markdown",
   "metadata": {},
   "source": [
    "# How to write a script on your own\n",
    "\n",
    "## Start with the problem: Analysis\n",
    "\n",
    "The problem we want to solve is:\n",
    "I want a program which translates all my protein file to nucleotide files.\n",
    "Although, this is a simple problem, there is not enough information for us to get started with the solution. A little more analysis is required. For example, how do we specify which files are to be processed? How does the translation work? Can all the information be translated or should we skip some information? How are the translated files stored? \n",
    "After analysing the problem properly, we design our program. \n",
    "\n",
    "## Design and test \n",
    "\n",
    "We make a list of things about how our program should work. We decompose the order of functional steps the program should follow and for each step we think about what information is needed to process the step and what should be the result of the step. \n",
    "\n",
    "For instance, in our case we need the following steps\n",
    "\n",
    "1.\tGet a list of files that need to be processed\n",
    "2.\tProcess per file\n",
    "<ul>\n",
    "<li>a.\tGet to be translated amino acid sequence </li>\n",
    "<li>b.\tTranslate the amino acid sequence to dna sequence</li>\n",
    "<li>c.\tStore the translated dna sequence to an outputfile</li></ul>\n",
    "\n",
    "Since we need a,b and c to execute multiple times it is best to put them in functions. Best is to write a simple body of functions and test the logic with print.\n"
   ]
  },
  {
   "cell_type": "code",
   "execution_count": 1,
   "metadata": {},
   "outputs": [
    {
     "name": "stdout",
     "output_type": "stream",
     "text": [
      "fetch sequence\n",
      "translate aa to dna\n",
      "store stranslation\n"
     ]
    }
   ],
   "source": [
    "#!/usr/bin/env python3\n",
    "\n",
    "\"\"\" translates all protein files to nucleotide files\"\"\"\n",
    "\n",
    "__author__ = 'fennaf'\n",
    "\n",
    "#imports\n",
    "import sys\n",
    "\n",
    "#functions\n",
    "def fetch_sequence():\n",
    "    print(\"fetch sequence\")\n",
    "\n",
    "def translate_aa2dna():\n",
    "    print(\"translate aa to dna\")\n",
    "\n",
    "def store_translation():\n",
    "    print(\"store stranslation\")\n",
    "\n",
    "def main(args):\n",
    "    fetch_sequence()\n",
    "    translate_aa2dna()\n",
    "    store_translation()\n",
    "    \n",
    "if __name__ == '__main__':\n",
    "    exitcode = main(sys.argv)\n",
    "    sys.exit(exitcode)\n"
   ]
  },
  {
   "cell_type": "markdown",
   "metadata": {},
   "source": [
    "So let us now think about what information is needed to process the step and what should be the result of the step. \n",
    "For the fetch_sequence we need a file to be read and we should return a amino acid sequence. For the translate_aa2dna we need a amino acid sequence to be translated and a translation process. The output will be a dna sequence. The store_translation function needs a name of a file to write to and the translated sequence. If we design the needed input and output into our script it looks as follow:\n",
    "\n"
   ]
  },
  {
   "cell_type": "code",
   "execution_count": 2,
   "metadata": {},
   "outputs": [
    {
     "name": "stdout",
     "output_type": "stream",
     "text": [
      "fetch sequence\n",
      "translate aa to dna\n",
      "store stranslation\n"
     ]
    }
   ],
   "source": [
    "#!/usr/bin/env python3\n",
    "\n",
    "\"\"\" translates all protein files to nucleotide files\"\"\"\n",
    "\n",
    "__author__ = 'fennaf'\n",
    "\n",
    "#imports\n",
    "import sys\n",
    "\n",
    "#functions\n",
    "def fetch_sequence(file):\n",
    "    sequence = \"\"\n",
    "    print(\"fetch sequence\")\n",
    "    return sequence\n",
    "\n",
    "def translate_aa2dna(aa_sequence):\n",
    "    dna_sequence = \"\"\n",
    "    print(\"translate aa to dna\")\n",
    "    return dna_sequence\n",
    "\n",
    "\n",
    "def store_translation(output_file, sequence):\n",
    "    print(\"store stranslation\")\n",
    "    o = open(output_file, \"w\")\n",
    "    o.write(sequence)\n",
    "    o.close()\n",
    "\n",
    "\n",
    "def main(args):\n",
    "    input_file = \"CFTR_protein.fasta\"\n",
    "    aa_sequence = fetch_sequence(input_file)\n",
    "    dna_sequence = translate_aa2dna(aa_sequence)\n",
    "    store_translation(\"test.txt\", dna_sequence)\n",
    "    \n",
    "if __name__ == '__main__':\n",
    "    exitcode = main(sys.argv)\n",
    "    sys.exit(exitcode)\n",
    "\n",
    "    "
   ]
  },
  {
   "cell_type": "markdown",
   "metadata": {},
   "source": [
    "It is now time to move one step further and develop the logic per function. Best practise is to develop and test small pieces. First let us develop the fetch_sequence function. We need to open the file, read the file but skip the first line because this has no sequence information. Only if the file starts with the letter M we now that it contains protein information. "
   ]
  },
  {
   "cell_type": "code",
   "execution_count": 3,
   "metadata": {
    "scrolled": true
   },
   "outputs": [
    {
     "name": "stdout",
     "output_type": "stream",
     "text": [
      "fetch sequence MQRSPLEKASVVSKLFFSWTRPILRKGYRQRLELSDIYQIPSVDSADNLSEKLEREWDRELASKKNPKLI\n",
      "NALRRCFFWRFMFYGIFLYLGEVTKAVQPLLLGRIIASYDPDNKEERSIAIYLGIGLCLLFIVRTLLLHP\n",
      "AIFGLHHIGMQMRIAMFSLIYKKTLKLSSRVLDKISIGQLVSLLSNNLNKFDEGLALAHFVWIAPLQVAL\n",
      "LMGLIWELLQASAFCGLGFLIVLALFQAGLGRMMMKYRDQRAGKISERLVITSEMIENIQSVKAYCWEEA\n",
      "MEKMIENLRQTELKLTRKAAYVRYFNSSAFFFSGFFVVFLSVLPYALIKGIILRKIFTTISFCIVLRMAV\n",
      "TRQFPWAVQTWYDSLGAINKIQDFLQKQEYKTLEYNLTTTEVVMENVTAFWEEGFGELFEKAKQNNNNRK\n",
      "TSNGDDSLFFSNFSLLGTPVLKDINFKIERGQLLAVAGSTGAGKTSLLMVIMGELEPSEGKIKHSGRISF\n",
      "CSQFSWIMPGTIKENIIFGVSYDEYRYRSVIKACQLEEDISKFAEKDNIVLGEGGITLSGGQRARISLAR\n",
      "AVYKDADLYLLDSPFGYLDVLTEKEIFESCVCKLMANKTRILVTSKMEHLKKADKILILHEGSSYFYGTF\n",
      "SELQNLQPDFSSKLMGCDSFDQFSAERRNSILTETLHRFSLEGDAPVSWTETKKQSFKQTGEFGEKRKNS\n",
      "ILNPINSIRKFSIVQKTPLQMNGIEEDSDEPLERRLSLVPDSEQGEAILPRISVISTGPTLQARRRQSVL\n",
      "NLMTHSVNQGQNIHRKTTASTRKVSLAPQANLTELDIYSRRLSQETGLEISEEINEEDLKECFFDDMESI\n",
      "PAVTTWNTYLRYITVHKSLIFVLIWCLVIFLAEVAASLVVLWLLGNTPLQDKGNSTHSRNNSYAVIITST\n",
      "SSYYVFYIYVGVADTLLAMGFFRGLPLVHTLITVSKILHHKMLHSVLQAPMSTLNTLKAGGILNRFSKDI\n",
      "AILDDLLPLTIFDFIQLLLIVIGAIAVVAVLQPYIFVATVPVIVAFIMLRAYFLQTSQQLKQLESEGRSP\n",
      "IFTHLVTSLKGLWTLRAFGRQPYFETLFHKALNLHTANWFLYLSTLRWFQMRIEMIFVIFFIAVTFISIL\n",
      "TTGEGEGRVGIILTLAMNIMSTLQWAVNSSIDVDSLMRSVSRVFKFIDMPTEGKPTKSTKPYKNGQLSKV\n",
      "MIIENSHVKKDDIWPSGGQMTVKDLTAKYTEGGNAILENISFSISPGQRVGLLGRTGSGKSTLLSAFLRL\n",
      "LNTEGEIQIDGVSWDSITLQQWRKAFGVIPQKVFIFSGTFRKNLDPYEQWSDQEIWKVADEVGLRSVIEQ\n",
      "FPGKLDFVLVDGGCVLSHGHKQLMCLARSVLSKAKILLLDEPSAHLDPVTYQIIRRTLKQAFADCTVILC\n",
      "EHRIEAMLECQQFLVIEENKVRQYDSIQKLLNERSLFRQAISPSDRVKLFPHRNSSKCKSKPQIAALKEE\n",
      "TEEEVQDTRL\n",
      "\n",
      "\n"
     ]
    }
   ],
   "source": [
    "def fetch_sequence(file):\n",
    "    sequence = \"\"\n",
    "    f = open(file)\n",
    "    for line in f:\n",
    "        if not line.startswith('>'):\n",
    "            sequence += line\n",
    "    print(\"fetch sequence\", sequence)\n",
    "    return sequence\n",
    "\n",
    "def main(args):\n",
    "    input_file = \"CFTR_protein.fasta\"\n",
    "    aa_sequence = fetch_sequence(input_file)\n",
    "    # dna_sequence = translate_aa2dna(aa_sequence)\n",
    "    # store_translation(\"test.txt\", dna_sequence)\n",
    "    \n",
    "    \n",
    "if __name__ == '__main__':\n",
    "    exitcode = main(sys.argv)\n",
    "    sys.exit(exitcode)"
   ]
  },
  {
   "cell_type": "markdown",
   "metadata": {},
   "source": [
    "The print statement helps us to debug the function. It seems to work, so we eliminate the print function."
   ]
  },
  {
   "cell_type": "code",
   "execution_count": 4,
   "metadata": {
    "collapsed": true
   },
   "outputs": [],
   "source": [
    "def fetch_sequence(file):\n",
    "    sequence = \"\"\n",
    "    f = open(file)\n",
    "    for line in f:\n",
    "        if not line.startswith('>'):\n",
    "            sequence += line\n",
    "    return sequence\n",
    "\n",
    "def main(args):\n",
    "    input_file = \"CFTR_protein.fasta\"\n",
    "    aa_sequence = fetch_sequence(input_file)\n",
    "    # dna_sequence = translate_aa2dna(aa_sequence)\n",
    "    # store_translation(\"test.txt\", dna_sequence)\n",
    "    \n",
    "    \n",
    "if __name__ == '__main__':\n",
    "    exitcode = main(sys.argv)\n",
    "    sys.exit(exitcode)"
   ]
  },
  {
   "cell_type": "markdown",
   "metadata": {},
   "source": [
    "Now we move on to the translate function. To translate we need to go character(one amino acid is one character) by charachter through the file and translate this to the dna codon. The dna codon must be added to the dan_sequence. I use a simple reverse_codon table first to test the principle"
   ]
  },
  {
   "cell_type": "code",
   "execution_count": 5,
   "metadata": {
    "scrolled": true
   },
   "outputs": [
    {
     "name": "stdout",
     "output_type": "stream",
     "text": [
      "ATGTTTTTTGATGATGATGATTTTTTTTTTATGTTTTTTGATGATTTTTTTATGATGATGTTTGATTTTGATTTTATGTTTTTTTTTATGATGATGGATATGATGATGTTTTTTTTTTTTTTTTTTTTTTTTTTTATGTTTGATGATTTTATGTTTTTTTTTGATGATTTTTTTTTTGATTTTATGATGTTTTTTATGTTTGATGATTTTGATGATGATGATTTTGATTTTATGATGGATTTTTTTGATTTTATGGATTTTGATTTTTTTGATTTTTTTTTTATGGATGATGATATGGATGATTTTTTTGATGATATGTTTTTTGATTTTGATATGTTTTTTATGATGTTTGATGATGATTTTGATTTTTTTTTTATGTTTTTTTTTTTTTTTTTTTTTATGATGTTTTTTTTTTTTATGATGGATGATATGTTTTTTGATATGATGGATGATATGGATTTTTTTGATGATTTTTTTTTTTTTGATGATGATTTTGATTTTGATATGGATGATTTTGATATGTTTGATTTTGATTTTGAT\n"
     ]
    }
   ],
   "source": [
    "\n",
    "def fetch_sequence(file):\n",
    "    sequence = \"\"\n",
    "    f = open(file)\n",
    "    for line in f:\n",
    "        if not line.startswith('>'):\n",
    "            sequence += line\n",
    "    return sequence\n",
    "\n",
    "def translate_aa2dna(aa_sequence):\n",
    "    dna_sequence = \"\"\n",
    "    # this need to be extended\n",
    "    reverse_codon = {\n",
    "        \"M\" : \"ATG\",\n",
    "        \"F\" : \"TTT\",\n",
    "        \"D\" : \"GAT\"\n",
    "        }\n",
    "    for char in aa_sequence:\n",
    "        if char in reverse_codon:\n",
    "            dna_sequence += reverse_codon[char]\n",
    "    print(dna_sequence)\n",
    "    return dna_sequence\n",
    "\n",
    "def main(args):\n",
    "    input_file = \"CFTR_protein.fasta\"\n",
    "    aa_sequence = fetch_sequence(input_file)\n",
    "    dna_sequence = translate_aa2dna(aa_sequence)\n",
    "    # store_translation(\"test.txt\", dna_sequence)\n",
    "    \n",
    "    \n",
    "if __name__ == '__main__':\n",
    "    exitcode = main(sys.argv)\n",
    "    sys.exit(exitcode)"
   ]
  },
  {
   "cell_type": "markdown",
   "metadata": {},
   "source": [
    "Now let us test the final part. To make sure that each output file is stored with a different name we make an outputvariable"
   ]
  },
  {
   "cell_type": "code",
   "execution_count": 6,
   "metadata": {},
   "outputs": [
    {
     "name": "stdout",
     "output_type": "stream",
     "text": [
      "store stranslation\n"
     ]
    }
   ],
   "source": [
    "\n",
    "def fetch_sequence(file):\n",
    "    sequence = \"\"\n",
    "    f = open(file)\n",
    "    for line in f:\n",
    "        if not line.startswith('>'):\n",
    "            sequence += line\n",
    "    return sequence\n",
    "\n",
    "def translate_aa2dna(aa_sequence):\n",
    "    dna_sequence = \"\"\n",
    "    # this need to be extended\n",
    "    reverse_codon = {\n",
    "        \"M\" : \"ATG\",\n",
    "        \"F\" : \"TTT\",\n",
    "        \"D\" : \"GAT\"\n",
    "        }\n",
    "    for char in aa_sequence:\n",
    "        if char in reverse_codon:\n",
    "            dna_sequence += reverse_codon[char]\n",
    "    return dna_sequence\n",
    "\n",
    "\n",
    "def store_translation(output_file, sequence):\n",
    "    print(\"store stranslation\")\n",
    "    o = open(output_file, \"w\")\n",
    "    o.write(sequence)\n",
    "    o.close()\n",
    "\n",
    "def main(args):\n",
    "    input_file = \"CFTR_protein.fasta\"\n",
    "    aa_sequence = fetch_sequence(input_file)\n",
    "    dna_sequence = translate_aa2dna(aa_sequence)\n",
    "    output_file = \"output\" + input_file[:-6] \n",
    "    store_translation(output_file, dna_sequence)\n",
    "    \n",
    "    \n",
    "if __name__ == '__main__':\n",
    "    exitcode = main(sys.argv)\n",
    "    sys.exit(exitcode)"
   ]
  },
  {
   "cell_type": "markdown",
   "metadata": {},
   "source": [
    "The final thing we need to do is incoperate process multiple files feature, so we design a for loop:"
   ]
  },
  {
   "cell_type": "code",
   "execution_count": 8,
   "metadata": {},
   "outputs": [
    {
     "name": "stdout",
     "output_type": "stream",
     "text": [
      "store stranslation\n"
     ]
    }
   ],
   "source": [
    "\n",
    "\n",
    "def main(args):\n",
    "    files = args[1:]\n",
    "    for input_file in files:\n",
    "        aa_sequence = fetch_sequence(input_file)\n",
    "        dna_sequence = translate_aa2dna(aa_sequence)\n",
    "        output_file = \"output\" + input_file[:-6] \n",
    "        store_translation(output_file, dna_sequence)\n",
    "    \n",
    "if __name__ == '__main__':\n",
    "    exitcode = main(sys.argv)\n",
    "    sys.exit(exitcode)"
   ]
  },
  {
   "cell_type": "markdown",
   "metadata": {
    "collapsed": true
   },
   "source": [
    "## summary: \n",
    "\n",
    "After analyzing the problem properly, we design our program. We make a list of things about how our program should work. If you do the design, you may not come up with the same kind of analysis since every person has their own way of doing things, so that is perfectly okay.\n",
    "\n",
    "\n",
    "Software development process\n",
    "In the practical lectures, we translated several problems into python programs.\n",
    "We had to go through various phases in the process of writing the software. \n",
    "\n",
    "- What (Analysis)\n",
    "- How (Design)\n",
    "- Do It (Implementation)\n",
    "- Test (Testing and Debugging)\n",
    "- Use (Operation or Deployment)\n",
    "- Refine \n",
    "\n",
    "Best practice is to start implementing with a simple version. Test and debug it. Use it to ensure that it works as expected. Now, add any features that you want and continue to repeat the Do It-Test-Use cycle as many times as required.\n",
    "Software is grown, not built. -- Bill de hÓra\n",
    "\n",
    "Source: https://python.swaroopch.com/problem_solving.html\n"
   ]
  }
 ],
 "metadata": {
  "kernelspec": {
   "display_name": "Python 3",
   "language": "python",
   "name": "python3"
  },
  "language_info": {
   "codemirror_mode": {
    "name": "ipython",
    "version": 3
   },
   "file_extension": ".py",
   "mimetype": "text/x-python",
   "name": "python",
   "nbconvert_exporter": "python",
   "pygments_lexer": "ipython3",
   "version": "3.6.3"
  }
 },
 "nbformat": 4,
 "nbformat_minor": 2
}
