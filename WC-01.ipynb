{
 "cells": [
  {
   "cell_type": "markdown",
   "metadata": {},
   "source": [
    "# Template exercises for python (Informatics II)"
   ]
  },
  {
   "cell_type": "markdown",
   "metadata": {},
   "source": [
    "Author: Fenna Feenstra and Tsjerk Wassenaar\n",
    "\n",
    "## Introduction\n",
    "\n",
    "Welcome to the course informatics II. By now you finished the course informatics I. By the end of this course you will notice that you took many more steps on the ladder of becoming a professional programmer, and programming will become easier and more logical, compared to the first days of your programming life. However, the learning curve of informatics II is still steep, so keep practising programming! \n",
    "\n",
    "In informatics II you will learn to program maintainable, readable, clear, efficient and reusable code. In bioinformatics, we must process big datasets and efficient code is essential. Therefore you will learn you how to code for fast performance. Finally, Python has some nice built-in functions and constructions you will learn to use. \n",
    "\n",
    "Today's tutorial introduces the programming template, which is used at BIN/ILST, and which is based on the template proposed by Guido van Rossum (the author of Python). The template is introduced in a series of logical steps, in such a way that every step consists of three to five elements or lines of code. Three to five elements is easy to remember, which is nice, because **YOU NEED TO KNOW THIS TEMPLATE BY HEART**. This is not meant to have you spend your time memorizing something for an exam, though. Having a good default template is a great way to start off any program, and actually helps tackling the programming task at hand.  \n",
    " "
   ]
  },
  {
   "cell_type": "markdown",
   "metadata": {},
   "source": [
    "## Part one: the basics of the template"
   ]
  },
  {
   "cell_type": "markdown",
   "metadata": {},
   "source": [
    "This session we will start with working with a template. Programming good practice starts with working with a template. Our template consists of three parts: \n",
    " \n",
    "     1. shebang with direction to the interpreter you use \n",
    "     2. description of your code\n",
    "     3. the code itself"
   ]
  },
  {
   "cell_type": "code",
   "execution_count": null,
   "metadata": {
    "collapsed": true
   },
   "outputs": [],
   "source": [
    "#!/usr/bin/env python3\n",
    "\n",
    "\"\"\"\n",
    "description of your script\n",
    "\"\"\"\n",
    "\n",
    "__author__ = \"....\"\n",
    "\n",
    "## CODE"
   ]
  },
  {
   "cell_type": "markdown",
   "metadata": {},
   "source": [
    "First, at the very top you will see the line with the hash (#), which is the comment indicator, then the exclamation point and then the path to the python interpreter. It basically tells which interpreter should be used to translate the code to machine language, so the computer can execute the code. In the example above we use the python3 interpreter. _Note: this only affects Unix-based systems, including Linux and Mac-OS. On Windows the interpreter is chosen based on the extension of the file (.py)._"
   ]
  },
  {
   "cell_type": "code",
   "execution_count": null,
   "metadata": {
    "collapsed": true
   },
   "outputs": [],
   "source": [
    "#!/us/bin/env python3"
   ]
  },
  {
   "cell_type": "markdown",
   "metadata": {},
   "source": [
    "The following line starts with three quotes and explains the purpose of the script. This we call the header comment. Because we use three quotes we can use multiline commenting. Note that this is already Python code, but the string is not stored as a variable, using =. However, it does have a very specific purpose and this _needs_ to be the first piece of code in the file. We will get back to the purpose of this later on."
   ]
  },
  {
   "cell_type": "code",
   "execution_count": null,
   "metadata": {
    "collapsed": true
   },
   "outputs": [],
   "source": [
    "\"\"\"\n",
    "description of your script\n",
    "\"\"\""
   ]
  },
  {
   "cell_type": "markdown",
   "metadata": {},
   "source": [
    "Finally, we end with the actual instructions. We instruct the computer by python code. In the first step of setting up the template, this is just marked with the comment '## CODE'."
   ]
  },
  {
   "cell_type": "code",
   "execution_count": null,
   "metadata": {
    "collapsed": true
   },
   "outputs": [],
   "source": [
    "#!/usr/bin/env python3\n",
    "\n",
    "\"\"\"\n",
    "description of your script\n",
    "\"\"\"\n",
    "\n",
    "__author__ = \"....\"\n",
    "\n",
    "## CODE"
   ]
  },
  {
   "cell_type": "markdown",
   "metadata": {},
   "source": [
    "### the basics of the code part\n",
    "\n",
    "The code consists of parts in which constants and functions are defined, and a part calling these functions to execute the instructions (the main part). This has emerged as convention in Python programming, and it is good practice the stick to this convention."
   ]
  },
  {
   "cell_type": "code",
   "execution_count": null,
   "metadata": {
    "collapsed": true
   },
   "outputs": [],
   "source": [
    "#!/usr/bin/env python3\n",
    "\n",
    "\"\"\"\n",
    "Description of the program/module\n",
    "\"\"\"\n",
    "\n",
    "__author__ = \"....\"\n",
    "\n",
    "## CODE\n",
    "\n",
    "# Imports\n",
    "# Constants\n",
    "# Functions\n",
    "# Main\n"
   ]
  },
  {
   "cell_type": "markdown",
   "metadata": {},
   "source": [
    "As we go through the previous examples of the informatics 1 course and you look at the different scripts you will notice that this organization of code is present in how these scripts are constructed. "
   ]
  },
  {
   "cell_type": "code",
   "execution_count": null,
   "metadata": {
    "collapsed": true
   },
   "outputs": [],
   "source": [
    "#!/usr/bin/env python3\n",
    "\n",
    "\"\"\"This demonstrates abc formula\"\"\"\n",
    "\n",
    "__author__ = \"F.Feenstra\"\n",
    "\n",
    "## CODE\n",
    "\n",
    "# Imports\n",
    "import sys\n",
    "import math\n",
    "\n",
    "# Constants\n",
    "\n",
    "# FUNCTIONS\n",
    "def discriminant(a,b,c):\n",
    "    D = b**2 - 4*a*c\n",
    "    return D\n",
    " \n",
    "    \n",
    "def valid_discriminant(D):\n",
    "    if D >= 0:\n",
    "        return True\n",
    "    else:\n",
    "        return False\n",
    "\n",
    "    \n",
    "def abc_formula(a, b, c, D):\n",
    "    x1 = (-b + D**0.5) / (2*a)\n",
    "    x2 = (-b - D**0.5) / (2*a)\n",
    "    return x1, x2\n",
    "\n",
    "\n",
    "def main():\n",
    "    a = float(sys.argv[1])\n",
    "    b = float(sys.argv[2])\n",
    "    c = float(sys.argv[3])\n",
    "    D = discriminant(a, b, c)\n",
    "    if valid_discriminant(D):\n",
    "        outcome = abc_formula(a, b, c, D)\n",
    "        print(\"solution x= \" + str(outcome[0]) + \" or \" + str(outcome[1]))\n",
    "    else:\n",
    "        print(\"Negative discriminant: no solution\")\n",
    "        \n",
    "main()"
   ]
  },
  {
   "cell_type": "markdown",
   "metadata": {},
   "source": [
    "In conclusion: In Informatics1 we used the following template:"
   ]
  },
  {
   "cell_type": "code",
   "execution_count": null,
   "metadata": {
    "collapsed": true
   },
   "outputs": [],
   "source": [
    "#!/usr/bin/env python3\n",
    "\n",
    "\"\"\"\n",
    "Description of the program/module\n",
    "\"\"\"\n",
    "\n",
    "__author__ = \"....\"\n",
    "\n",
    "## CODE\n",
    "\n",
    "# Imports\n",
    "# Constants\n",
    "# Functions\n",
    "# Main\n",
    "def main():\n",
    "    #some code\n",
    "    return 0\n",
    "\n",
    "main()"
   ]
  },
  {
   "cell_type": "markdown",
   "metadata": {},
   "source": [
    "## Part Two: the template to use for this course"
   ]
  },
  {
   "cell_type": "markdown",
   "metadata": {},
   "source": [
    "In this course, we will introduce a new way of calling the main function. It looks like this:"
   ]
  },
  {
   "cell_type": "code",
   "execution_count": null,
   "metadata": {
    "collapsed": true
   },
   "outputs": [],
   "source": [
    "#!/usr/bin/env python3\n",
    "\n",
    "\"\"\"\n",
    "Description of the program/module\n",
    "\"\"\"\n",
    "\n",
    "__author__ = \"....\"\n",
    "\n",
    "## CODE\n",
    "\n",
    "# Imports\n",
    "import sys\n",
    "\n",
    "# Constants\n",
    "\n",
    "\n",
    "# Functions\n",
    "\n",
    "\n",
    "# Main\n",
    "def main(args):\n",
    "    return 0\n",
    "\n",
    "if __name__ == \"__main__\":\n",
    "    exitcode = main(sys.argv)\n",
    "    sys.exit(exitcode)\n"
   ]
  },
  {
   "cell_type": "markdown",
   "metadata": {},
   "source": [
    "Every module in python has a special attribute called `__name__ `. The value of `__name__`  attribute is set to (the string) `'__main__'`  when a module runs as main program. Otherwise the value of `__name__`  is set to contain the name of the module. In this way it will only execute the main script, not the main of any imported module. So in this particular case it will only execute the lines \n",
    "\n",
    "    exitcode =  main(sys.argv)\n",
    "    sys.exit(exitcode)\n",
    "\n",
    "if this is the main script, not the imported script.\n"
   ]
  },
  {
   "cell_type": "markdown",
   "metadata": {},
   "source": [
    "The `sys.exit(main)` executes the main and then terminates the program. So `sys.exit()` terminates the program and `sys.exit(main)` terminates the program after it has executed the main function. Since we want to pass the command line arguments to the main function we coded the line "
   ]
  },
  {
   "cell_type": "code",
   "execution_count": null,
   "metadata": {
    "collapsed": true
   },
   "outputs": [],
   "source": [
    "    exitcode = main(sys.argv)\n",
    "    sys.exit(exitcode)"
   ]
  },
  {
   "cell_type": "markdown",
   "metadata": {},
   "source": [
    "which will fetch the commandline arguments by `sys.argv` "
   ]
  },
  {
   "cell_type": "code",
   "execution_count": null,
   "metadata": {
    "collapsed": true
   },
   "outputs": [],
   "source": [
    "    return 0"
   ]
  },
  {
   "cell_type": "markdown",
   "metadata": {},
   "source": [
    "We use the return 0 code to close the script properly. If the sys.exit returns a 1 we know that an error was raised."
   ]
  },
  {
   "cell_type": "markdown",
   "metadata": {},
   "source": [
    "### the basics of the main part"
   ]
  },
  {
   "cell_type": "markdown",
   "metadata": {},
   "source": [
    "So far we used an empty main function. However, best practise is to divide the main in three sequential parts as well\n",
    "    1) preparation\n",
    "    2) processing\n",
    "    3) finishing"
   ]
  },
  {
   "cell_type": "code",
   "execution_count": null,
   "metadata": {
    "collapsed": true
   },
   "outputs": [],
   "source": [
    "# Main\n",
    "def main(args):\n",
    "\n",
    "    # Preparation\n",
    "\n",
    "    # Work\n",
    "\n",
    "    # Finalize\n",
    "\n",
    "    return 0\n",
    "\n"
   ]
  },
  {
   "cell_type": "markdown",
   "metadata": {},
   "source": [
    "In the preparation, we declare variables and (optional) open files. In the processing part, we do something with the variables and files and in the finish part we conduct close files if we opened them and conduct other closures. Finally, we return. In the example below you see the division of the preparation, work and finalization. Note: This structure should be used for other functions as well."
   ]
  },
  {
   "cell_type": "code",
   "execution_count": null,
   "metadata": {
    "collapsed": true
   },
   "outputs": [],
   "source": [
    "def main(args):\n",
    "    #Preperation\n",
    "    a = float(args[1])\n",
    "    b = float(args[2])\n",
    "    c = float(args[3])\n",
    "    \n",
    "    # Work\n",
    "    D = discriminant(a, b, c)\n",
    "    if valid_discriminant(D):\n",
    "        outcome = abc_formula(a, b, c, D)\n",
    "        print(\"solution x= \" + str(outcome[0]) + \" or \" + str(outcome[1]))\n",
    "    else:\n",
    "        print(\"Negative discriminant: no solution\")\n",
    "        \n",
    "    # Finalize\n",
    "    return 0"
   ]
  },
  {
   "cell_type": "markdown",
   "metadata": {},
   "source": [
    "## Final template \n",
    "\n",
    "\n",
    "The final template which we will work with this course is as follow: "
   ]
  },
  {
   "cell_type": "code",
   "execution_count": null,
   "metadata": {
    "collapsed": true
   },
   "outputs": [],
   "source": [
    "#!/usr/bin/env python3\n",
    "\n",
    "\"\"\"\n",
    "Description of the program/module\n",
    "\"\"\"\n",
    "\n",
    "__author__ = \"....\"\n",
    "\n",
    "## CODE\n",
    "\n",
    "# Imports\n",
    "import sys\n",
    "\n",
    "\n",
    "# Constants\n",
    "\n",
    "\n",
    "\n",
    "# Functions\n",
    "\n",
    "\n",
    "\n",
    "\n",
    "\n",
    "# Main\n",
    "def main(args):\n",
    "\n",
    "    # Preparation\n",
    "\n",
    "\n",
    "\n",
    "\n",
    "    # Work\n",
    "\n",
    "\n",
    "\n",
    "\n",
    "    # Finalize\n",
    "\n",
    "\n",
    "\n",
    "\n",
    "    return 0\n",
    "\n",
    "if __name__ == \"__main__\":\n",
    "    exitcode = main(sys.argv)\n",
    "    sys.exit(exitcode)\n"
   ]
  },
  {
   "cell_type": "markdown",
   "metadata": {},
   "source": [
    "You will be given this template on paper. You will learn to code on paper in the following exercise first."
   ]
  },
  {
   "cell_type": "markdown",
   "metadata": {},
   "source": [
    "## Exercise I: Using the template \n",
    "\n",
    "Below you find some code. Rewrite the following code with the new final template. First try to place the code in the paper template, then code the new program in IDLE. Use the <a href=\"2uv8a.pdb\">2uv8a.pdb</a> file to test."
   ]
  },
  {
   "cell_type": "code",
   "execution_count": null,
   "metadata": {
    "collapsed": true
   },
   "outputs": [],
   "source": [
    "#!/usr/bin/env python3\n",
    "\n",
    "import sys\n",
    "\n",
    "def calc_weight(atom):\n",
    "    weigth = 0\n",
    "    mass = {'C':12.011,\n",
    "            'N':14.007,\n",
    "            'O':15.998,\n",
    "            'P':30.974,\n",
    "            'S':32.065,\n",
    "            'H':1.008\n",
    "}\n",
    "    for element in atom:\n",
    "        if element in mass:\n",
    "             weigth += mass[element]\n",
    "        else:\n",
    "            print('not in table mass table')\n",
    "    return weigth\n",
    "\n",
    "\n",
    "def processfile(input_file_name):\n",
    "    f = open(input_file_name)\n",
    "    count = 0\n",
    "    for line in f:\n",
    "        if line.strip().startswith('ATOM'):\n",
    "            line = line[13:]\n",
    "            l = line.split(' ')\n",
    "            atom = l[0]\n",
    "            count += calc_weight(atom)\n",
    "    f.close()\n",
    "    return count\n",
    "\n",
    "\n",
    "def store_atomweigth(y, output_file_name):\n",
    "    o = open(output_file_name, 'w')\n",
    "    o.write('atomweigth:' + str(y) + '\\n')\n",
    "    o.close()\n",
    "\n",
    "argv = sys.argv \n",
    "if len(argv) < 3:\n",
    "    print(\"please provide the name of an input and an output file\")\n",
    "    print(\"Program stopping...\")\n",
    "    sys.exit()\n",
    "input_file_name = argv[1]\n",
    "output_file_name = argv[2]\n",
    "y = processfile(input_file_name, output_file_name)\n",
    "store_atomweigth(y,output_file_name)\n"
   ]
  },
  {
   "cell_type": "markdown",
   "metadata": {},
   "source": [
    "## Exercise II: Fibonacci\n",
    "\n",
    "The Fibonacci Sequence is the series of numbers:\n",
    "\n",
    "0, 1, 1, 2, 3, 5, 8, 13, 21, 34, ...\n",
    "\n",
    "Fibonacci sequence is characterized by the fact that every number after the first two is the sum of the two preceding ones. On the internet, you can find more documentation about this special sequence. Your challenge is to construct a piece of code hat prints out the Fibonacci sequence till a maximum number taken from the command line, at least 10 numbers long. The second number in the printed range should print a \"*\". \n",
    "\n",
    "for example a maximum of 2000 returns\n",
    "\n",
    "    [21, '*', 55, 89, 144, 233, 377, 610, 987, 1597]\n",
    "\n",
    "To conduct this challenge, you should first construct a flow chart on paper. Best is to start with a simple program starting the sequence from the beginning (0). Once you made a sketch of the flow chart you can translate the flowchart to pseudo code and finally to python code. Use the template provided on paper to structure your program. Be aware that there are many ways to come to a solution. Make sure that you understand your chosen solution. \n"
   ]
  },
  {
   "cell_type": "markdown",
   "metadata": {},
   "source": [
    "## Solutions\n",
    "\n",
    "Solutions for the excercises are given  below. Programming is like playing the piano: excercise, excercise, excercise. You learn most from typing each single word yourself. If you have no clue what to do you can have a look, but only after your first and second try. Remember there are many ways to come to a solution. Your idea might be valid as well. Discuss with your teacher the outcome or the differences.\n",
    "\n",
    "<p><a href=\"atomweigth.py\">atomweigth.py</a></p>\n",
    "<p><a href=\"fibonacci.py\">fibonacci.py</a></p>\n"
   ]
  }
 ],
 "metadata": {
  "kernelspec": {
   "display_name": "Python 3",
   "language": "python",
   "name": "python3"
  },
  "language_info": {
   "codemirror_mode": {
    "name": "ipython",
    "version": 3
   },
   "file_extension": ".py",
   "mimetype": "text/x-python",
   "name": "python",
   "nbconvert_exporter": "python",
   "pygments_lexer": "ipython3",
   "version": "3.5.2"
  }
 },
 "nbformat": 4,
 "nbformat_minor": 2
}
